{
 "cells": [
  {
   "cell_type": "code",
   "execution_count": 26,
   "metadata": {},
   "outputs": [],
   "source": [
    "import os\n",
    "import pymysql\n",
    "import dotenv\n",
    "from dotenv import load_dotenv\n",
    "load_dotenv()\n",
    "\n",
    "HOST = os.getenv('HOST')\n",
    "USER = os.getenv('MYSQL_USER')\n",
    "PASSWORD = os.getenv('MYSQL_ROOT_PASSWORD')\n",
    "DB = os.getenv('MYSQL_DATABASE')\n",
    "\n",
    "connection = pymysql.connect(host=HOST, \n",
    "                      user = USER,\n",
    "                     password = PASSWORD,\n",
    "                     db = DB)\n",
    "\n",
    "cursor = connection.cursor()"
   ]
  },
  {
   "cell_type": "markdown",
   "metadata": {},
   "source": [
    "* ## Quantos usuários únicos não jogaram após o dia 03/02/2020?\n",
    "> A análise de jogos por usuário será feita a partir de updated_at (última atualização do registro), na tabela matchmaking_stats_summary\n",
    "\n",
    ">OBS: updated_at e created_at possuem sempre a mesma data neste banco de dados\n",
    ">Como o número de usuários que jogaram é diferente do número de usuários distintos, sei que um mesmo usuário jogou várias partidas."
   ]
  },
  {
   "cell_type": "code",
   "execution_count": 2,
   "metadata": {},
   "outputs": [
    {
     "data": {
      "text/plain": [
       "(2057, 2030)"
      ]
     },
     "execution_count": 2,
     "metadata": {},
     "output_type": "execute_result"
    }
   ],
   "source": [
    "#Retrieving the total user number:\n",
    "total_registros = cursor.execute(\"SELECT player_id FROM matchmaking_stats_summary\")\n",
    "total = cursor.execute(\"SELECT DISTINCT player_id FROM matchmaking_stats_summary\")\n",
    "(total_registros, total)\n",
    "#27 usuers has played more than one single date "
   ]
  },
  {
   "cell_type": "code",
   "execution_count": 3,
   "metadata": {},
   "outputs": [
    {
     "data": {
      "text/plain": [
       "1304"
      ]
     },
     "execution_count": 3,
     "metadata": {},
     "output_type": "execute_result"
    }
   ],
   "source": [
    "#\"%Y/%m/%d\"\n",
    "#Retrieving the number of players who played after this date 03/02/2020\n",
    "strong_players = cursor.execute(\"SELECT DISTINCT player_id FROM matchmaking_stats_summary WHERE updated_at >= '2020-02-03'\")\n",
    "strong_players"
   ]
  },
  {
   "cell_type": "code",
   "execution_count": 5,
   "metadata": {},
   "outputs": [
    {
     "data": {
      "text/plain": [
       "726"
      ]
     },
     "execution_count": 5,
     "metadata": {},
     "output_type": "execute_result"
    }
   ],
   "source": [
    "#Retrieving the number of player who haven't played\n",
    "weak_players = total - strong_players\n",
    "weak_players"
   ]
  },
  {
   "cell_type": "markdown",
   "metadata": {},
   "source": [
    "* ## Quantos usuários únicos jogaram em fevereiro após o dia 06/02/2020?\n",
    "> Usando o mesmo raciocínio do exercício anterior "
   ]
  },
  {
   "cell_type": "code",
   "execution_count": 8,
   "metadata": {},
   "outputs": [
    {
     "data": {
      "text/plain": [
       "2030"
      ]
     },
     "execution_count": 8,
     "metadata": {},
     "output_type": "execute_result"
    }
   ],
   "source": [
    "#Retrieving the total user number:\n",
    "total = cursor.execute(\"SELECT distinct player_id FROM matchmaking_stats_summary\")\n",
    "total"
   ]
  },
  {
   "cell_type": "code",
   "execution_count": 12,
   "metadata": {},
   "outputs": [
    {
     "data": {
      "text/plain": [
       "0"
      ]
     },
     "execution_count": 12,
     "metadata": {},
     "output_type": "execute_result"
    }
   ],
   "source": [
    "#Retrieving the number of users who played after the date \n",
    "faithful_players = cursor.execute(\"SELECT DISTINCT player_id FROM matchmaking_stats_summary WHERE updated_at > '2020-02-06 23:59:59'\")\n",
    "faithful_players"
   ]
  },
  {
   "cell_type": "code",
   "execution_count": 14,
   "metadata": {},
   "outputs": [
    {
     "data": {
      "text/plain": [
       "0"
      ]
     },
     "execution_count": 14,
     "metadata": {},
     "output_type": "execute_result"
    }
   ],
   "source": [
    "#or\n",
    "faithful_players = cursor.execute(\"SELECT DISTINCT player_id FROM matchmaking_stats_summary WHERE updated_at >= '2020-02-07'\")\n",
    "faithful_players"
   ]
  },
  {
   "cell_type": "markdown",
   "metadata": {},
   "source": [
    "* ## Em qual dia mais jogadores deixaram de jogar no mês de fevereiro?\n",
    ">No caso, vou usar a mesma tabela, e fazer as operações passo a passo:"
   ]
  },
  {
   "cell_type": "code",
   "execution_count": 16,
   "metadata": {},
   "outputs": [
    {
     "data": {
      "text/plain": [
       "2030"
      ]
     },
     "execution_count": 16,
     "metadata": {},
     "output_type": "execute_result"
    }
   ],
   "source": [
    "#Retrieving the number of active players during the month of February (players who updated their stats)\n",
    "feb_players = cursor.execute(\"SELECT DISTINCT player_id FROM matchmaking_stats_summary WHERE updated_at BETWEEN '2020-02-01 00:00:00' AND '2020-02-29 23:59:59'\")\n",
    "feb_players\n",
    "#every player have done some update in their stats during this month"
   ]
  },
  {
   "cell_type": "markdown",
   "metadata": {},
   "source": [
    "* ### Checking by day:"
   ]
  },
  {
   "cell_type": "code",
   "execution_count": 19,
   "metadata": {},
   "outputs": [
    {
     "data": {
      "text/plain": [
       "326"
      ]
     },
     "execution_count": 19,
     "metadata": {},
     "output_type": "execute_result"
    }
   ],
   "source": [
    "day1 = cursor.execute(\"SELECT DISTINCT player_id FROM matchmaking_stats_summary WHERE updated_at BETWEEN '2020-02-01 00:00:00' AND '2020-02-01 23:59:59'\")\n",
    "day1"
   ]
  },
  {
   "cell_type": "code",
   "execution_count": 20,
   "metadata": {},
   "outputs": [
    {
     "data": {
      "text/plain": [
       "408"
      ]
     },
     "execution_count": 20,
     "metadata": {},
     "output_type": "execute_result"
    }
   ],
   "source": [
    "day2 = cursor.execute(\"SELECT DISTINCT player_id FROM matchmaking_stats_summary WHERE updated_at BETWEEN '2020-02-02 00:00:00' AND '2020-02-02 23:59:59'\")\n",
    "day2"
   ]
  },
  {
   "cell_type": "code",
   "execution_count": 21,
   "metadata": {},
   "outputs": [
    {
     "data": {
      "text/plain": [
       "313"
      ]
     },
     "execution_count": 21,
     "metadata": {},
     "output_type": "execute_result"
    }
   ],
   "source": [
    "day3 = cursor.execute(\"SELECT DISTINCT player_id FROM matchmaking_stats_summary WHERE updated_at BETWEEN '2020-02-03 00:00:00' and '2020-02-03 23:59:59'\")\n",
    "day3"
   ]
  },
  {
   "cell_type": "code",
   "execution_count": 22,
   "metadata": {},
   "outputs": [
    {
     "data": {
      "text/plain": [
       "330"
      ]
     },
     "execution_count": 22,
     "metadata": {},
     "output_type": "execute_result"
    }
   ],
   "source": [
    "day4 = cursor.execute(\"SELECT DISTINCT player_id FROM matchmaking_stats_summary WHERE updated_at BETWEEN '2020-02-04 00:00:00' and '2020-02-04 23:59:59'\")\n",
    "day4"
   ]
  },
  {
   "cell_type": "code",
   "execution_count": 23,
   "metadata": {},
   "outputs": [
    {
     "data": {
      "text/plain": [
       "338"
      ]
     },
     "execution_count": 23,
     "metadata": {},
     "output_type": "execute_result"
    }
   ],
   "source": [
    "dia5 = cursor.execute(\"SELECT DISTINCT player_id FROM matchmaking_stats_summary WHERE updated_at BETWEEN '2020-02-05 00:00:00' and '2020-02-05 23:59:59'\")\n",
    "dia5"
   ]
  },
  {
   "cell_type": "code",
   "execution_count": 24,
   "metadata": {},
   "outputs": [
    {
     "data": {
      "text/plain": [
       "330"
      ]
     },
     "execution_count": 24,
     "metadata": {},
     "output_type": "execute_result"
    }
   ],
   "source": [
    "dia6 = cursor.execute(\"SELECT DISTINCT player_id FROM matchmaking_stats_summary WHERE updated_at BETWEEN '2020-02-06 00:00:00' and '2020-02-06 23:59:59'\")\n",
    "dia6"
   ]
  },
  {
   "cell_type": "markdown",
   "metadata": {},
   "source": [
    " >## In the above case we can see that all players have played in February. We can notice that 03/02/2020 was the day where less players have played. \n",
    ">## We must be careful looking these numbers, because the variables dayN refers to the number of active single players in that day, but in this analyse we can't say who are the players. Thus, the sum of number of players of variables dayN are going to be higher than the feb_players variable (number of total single player in the February mounth). \n",
    ">## We can take a look in the intersection between these variables:"
   ]
  },
  {
   "cell_type": "code",
   "execution_count": 27,
   "metadata": {},
   "outputs": [],
   "source": [
    "cursor.execute(\"SELECT DISTINCT player_id FROM matchmaking_stats_summary WHERE updated_at BETWEEN '2020-02-06 00:00:00' and '2020-02-06 23:59:59'\")\n",
    "a = cursor.fetchall()\n",
    "cursor.execute(\"SELECT DISTINCT player_id FROM matchmaking_stats_summary WHERE updated_at BETWEEN '2020-02-06 00:00:00' and '2020-02-06 23:59:59'\")\n",
    "b = cursor.fetchall()"
   ]
  },
  {
   "cell_type": "code",
   "execution_count": 28,
   "metadata": {},
   "outputs": [
    {
     "data": {
      "text/plain": [
       "330"
      ]
     },
     "execution_count": 28,
     "metadata": {},
     "output_type": "execute_result"
    }
   ],
   "source": [
    "intersec = set(a).intersection(set(b))\n",
    "len(intersec)"
   ]
  },
  {
   "cell_type": "code",
   "execution_count": 30,
   "metadata": {},
   "outputs": [
    {
     "data": {
      "text/plain": [
       "{(536,),\n",
       " (1903,),\n",
       " (5656,),\n",
       " (7612,),\n",
       " (7953,),\n",
       " (10783,),\n",
       " (13302,),\n",
       " (15327,),\n",
       " (15727,),\n",
       " (16863,),\n",
       " (17293,),\n",
       " (17601,),\n",
       " (18621,),\n",
       " (19120,),\n",
       " (20741,),\n",
       " (20882,),\n",
       " (23145,),\n",
       " (24023,),\n",
       " (27390,),\n",
       " (28357,),\n",
       " (28756,),\n",
       " (29553,),\n",
       " (30019,),\n",
       " (30309,),\n",
       " (30838,),\n",
       " (31133,),\n",
       " (33603,),\n",
       " (33732,),\n",
       " (36015,),\n",
       " (38043,),\n",
       " (38663,),\n",
       " (38728,),\n",
       " (39554,),\n",
       " (49760,),\n",
       " (58567,),\n",
       " (59201,),\n",
       " (66053,),\n",
       " (73644,),\n",
       " (74092,),\n",
       " (75077,),\n",
       " (76941,),\n",
       " (82824,),\n",
       " (83537,),\n",
       " (85158,),\n",
       " (87779,),\n",
       " (88377,),\n",
       " (94264,),\n",
       " (101769,),\n",
       " (102712,),\n",
       " (106041,),\n",
       " (112578,),\n",
       " (113818,),\n",
       " (118584,),\n",
       " (124713,),\n",
       " (128232,),\n",
       " (131266,),\n",
       " (137168,),\n",
       " (140846,),\n",
       " (141738,),\n",
       " (143142,),\n",
       " (143577,),\n",
       " (143905,),\n",
       " (144011,),\n",
       " (157136,),\n",
       " (157455,),\n",
       " (160572,),\n",
       " (168613,),\n",
       " (177856,),\n",
       " (185545,),\n",
       " (196112,),\n",
       " (201506,),\n",
       " (212934,),\n",
       " (221701,),\n",
       " (224276,),\n",
       " (234363,),\n",
       " (236304,),\n",
       " (236573,),\n",
       " (240625,),\n",
       " (241465,),\n",
       " (241767,),\n",
       " (251616,),\n",
       " (259723,),\n",
       " (262957,),\n",
       " (274639,),\n",
       " (282603,),\n",
       " (289303,),\n",
       " (292934,),\n",
       " (300080,),\n",
       " (302018,),\n",
       " (303101,),\n",
       " (303731,),\n",
       " (306391,),\n",
       " (306699,),\n",
       " (316605,),\n",
       " (317615,),\n",
       " (319494,),\n",
       " (321143,),\n",
       " (328364,),\n",
       " (334433,),\n",
       " (336426,),\n",
       " (345015,),\n",
       " (349768,),\n",
       " (355219,),\n",
       " (358862,),\n",
       " (362814,),\n",
       " (375347,),\n",
       " (379083,),\n",
       " (379681,),\n",
       " (382789,),\n",
       " (399115,),\n",
       " (400482,),\n",
       " (403121,),\n",
       " (413220,),\n",
       " (419951,),\n",
       " (424667,),\n",
       " (429054,),\n",
       " (429183,),\n",
       " (456980,),\n",
       " (457176,),\n",
       " (461171,),\n",
       " (462396,),\n",
       " (465158,),\n",
       " (465633,),\n",
       " (467129,),\n",
       " (471706,),\n",
       " (480492,),\n",
       " (481378,),\n",
       " (484664,),\n",
       " (485349,),\n",
       " (486333,),\n",
       " (495982,),\n",
       " (500543,),\n",
       " (505584,),\n",
       " (523340,),\n",
       " (526454,),\n",
       " (535317,),\n",
       " (540419,),\n",
       " (542323,),\n",
       " (542769,),\n",
       " (545871,),\n",
       " (545905,),\n",
       " (554241,),\n",
       " (555511,),\n",
       " (563296,),\n",
       " (563806,),\n",
       " (564971,),\n",
       " (576674,),\n",
       " (578554,),\n",
       " (578973,),\n",
       " (588679,),\n",
       " (589458,),\n",
       " (590382,),\n",
       " (590544,),\n",
       " (590695,),\n",
       " (597197,),\n",
       " (598096,),\n",
       " (611045,),\n",
       " (613251,),\n",
       " (628147,),\n",
       " (630658,),\n",
       " (640357,),\n",
       " (650068,),\n",
       " (655150,),\n",
       " (658780,),\n",
       " (663016,),\n",
       " (671297,),\n",
       " (671459,),\n",
       " (683308,),\n",
       " (685924,),\n",
       " (691076,),\n",
       " (694361,),\n",
       " (699751,),\n",
       " (706745,),\n",
       " (708204,),\n",
       " (719985,),\n",
       " (721080,),\n",
       " (730094,),\n",
       " (731026,),\n",
       " (734457,),\n",
       " (735793,),\n",
       " (737212,),\n",
       " (739776,),\n",
       " (741596,),\n",
       " (746349,),\n",
       " (753765,),\n",
       " (756967,),\n",
       " (757782,),\n",
       " (758201,),\n",
       " (759082,),\n",
       " (761325,),\n",
       " (762087,),\n",
       " (763648,),\n",
       " (764776,),\n",
       " (765064,),\n",
       " (765773,),\n",
       " (774075,),\n",
       " (786584,),\n",
       " (786755,),\n",
       " (786888,),\n",
       " (786969,),\n",
       " (788608,),\n",
       " (793366,),\n",
       " (798559,),\n",
       " (799743,),\n",
       " (802646,),\n",
       " (802786,),\n",
       " (805310,),\n",
       " (808230,),\n",
       " (810980,),\n",
       " (813684,),\n",
       " (816625,),\n",
       " (818480,),\n",
       " (830577,),\n",
       " (830624,),\n",
       " (830654,),\n",
       " (838207,),\n",
       " (838774,),\n",
       " (844847,),\n",
       " (853772,),\n",
       " (853799,),\n",
       " (858828,),\n",
       " (862466,),\n",
       " (864737,),\n",
       " (869843,),\n",
       " (871584,),\n",
       " (871626,),\n",
       " (874321,),\n",
       " (877918,),\n",
       " (879916,),\n",
       " (881576,),\n",
       " (889511,),\n",
       " (916568,),\n",
       " (922715,),\n",
       " (935916,),\n",
       " (942916,),\n",
       " (945203,),\n",
       " (948915,),\n",
       " (955296,),\n",
       " (960629,),\n",
       " (965939,),\n",
       " (968242,),\n",
       " (970684,),\n",
       " (980341,),\n",
       " (981886,),\n",
       " (982678,),\n",
       " (989240,),\n",
       " (1003687,),\n",
       " (1005153,),\n",
       " (1013233,),\n",
       " (1014358,),\n",
       " (1015789,),\n",
       " (1017533,),\n",
       " (1026777,),\n",
       " (1030301,),\n",
       " (1034281,),\n",
       " (1035485,),\n",
       " (1039156,),\n",
       " (1039797,),\n",
       " (1046001,),\n",
       " (1048929,),\n",
       " (1049724,),\n",
       " (1050036,),\n",
       " (1051481,),\n",
       " (1061775,),\n",
       " (1065045,),\n",
       " (1066446,),\n",
       " (1070784,),\n",
       " (1074023,),\n",
       " (1076039,),\n",
       " (1076217,),\n",
       " (1078932,),\n",
       " (1082204,),\n",
       " (1083180,),\n",
       " (1094673,),\n",
       " (1097081,),\n",
       " (1098708,),\n",
       " (1102546,),\n",
       " (1102873,),\n",
       " (1106224,),\n",
       " (1109541,),\n",
       " (1112624,),\n",
       " (1118682,),\n",
       " (1125419,),\n",
       " (1128288,),\n",
       " (1130162,),\n",
       " (1130514,),\n",
       " (1132177,),\n",
       " (1133940,),\n",
       " (1135290,),\n",
       " (1138900,),\n",
       " (1139413,),\n",
       " (1148268,),\n",
       " (1153846,),\n",
       " (1158180,),\n",
       " (1163702,),\n",
       " (1168117,),\n",
       " (1170018,),\n",
       " (1172146,),\n",
       " (1173509,),\n",
       " (1178312,),\n",
       " (1181434,),\n",
       " (1190544,),\n",
       " (1191618,),\n",
       " (1196216,),\n",
       " (1203488,),\n",
       " (1204608,),\n",
       " (1205034,),\n",
       " (1206986,),\n",
       " (1211496,),\n",
       " (1215115,),\n",
       " (1217362,),\n",
       " (1217998,),\n",
       " (1227165,),\n",
       " (1227900,),\n",
       " (1230117,),\n",
       " (1231469,),\n",
       " (1234254,),\n",
       " (1237898,),\n",
       " (1246632,),\n",
       " (1247649,),\n",
       " (1251329,),\n",
       " (1252907,),\n",
       " (1254553,),\n",
       " (1259423,),\n",
       " (1261336,),\n",
       " (1262859,),\n",
       " (1268835,),\n",
       " (1269653,),\n",
       " (1277946,),\n",
       " (1280236,)}"
      ]
     },
     "execution_count": 30,
     "metadata": {},
     "output_type": "execute_result"
    }
   ],
   "source": [
    "#The players ids\n",
    "intersec"
   ]
  },
  {
   "cell_type": "code",
   "execution_count": 31,
   "metadata": {},
   "outputs": [
    {
     "ename": "InternalError",
     "evalue": "(1370, \"execute command denied to user 'QiOMXYrlNR'@'%' for routine 'QiOMXYrlNR.CORR'\")",
     "output_type": "error",
     "traceback": [
      "\u001b[0;31m---------------------------------------------------------------------------\u001b[0m",
      "\u001b[0;31mInternalError\u001b[0m                             Traceback (most recent call last)",
      "\u001b[0;32m<ipython-input-31-098025a74592>\u001b[0m in \u001b[0;36m<module>\u001b[0;34m\u001b[0m\n\u001b[0;32m----> 1\u001b[0;31m \u001b[0mcursor\u001b[0m\u001b[0;34m.\u001b[0m\u001b[0mexecute\u001b[0m\u001b[0;34m(\u001b[0m\u001b[0;34m\"SELECT CORR(total_wins, kills) FROM matchmaking_stats_summary;\"\u001b[0m\u001b[0;34m)\u001b[0m\u001b[0;34m\u001b[0m\u001b[0m\n\u001b[0m",
      "\u001b[0;32m~/.pyenv/versions/3.7.0/lib/python3.7/site-packages/pymysql/cursors.py\u001b[0m in \u001b[0;36mexecute\u001b[0;34m(self, query, args)\u001b[0m\n\u001b[1;32m    168\u001b[0m         \u001b[0mquery\u001b[0m \u001b[0;34m=\u001b[0m \u001b[0mself\u001b[0m\u001b[0;34m.\u001b[0m\u001b[0mmogrify\u001b[0m\u001b[0;34m(\u001b[0m\u001b[0mquery\u001b[0m\u001b[0;34m,\u001b[0m \u001b[0margs\u001b[0m\u001b[0;34m)\u001b[0m\u001b[0;34m\u001b[0m\u001b[0m\n\u001b[1;32m    169\u001b[0m \u001b[0;34m\u001b[0m\u001b[0m\n\u001b[0;32m--> 170\u001b[0;31m         \u001b[0mresult\u001b[0m \u001b[0;34m=\u001b[0m \u001b[0mself\u001b[0m\u001b[0;34m.\u001b[0m\u001b[0m_query\u001b[0m\u001b[0;34m(\u001b[0m\u001b[0mquery\u001b[0m\u001b[0;34m)\u001b[0m\u001b[0;34m\u001b[0m\u001b[0m\n\u001b[0m\u001b[1;32m    171\u001b[0m         \u001b[0mself\u001b[0m\u001b[0;34m.\u001b[0m\u001b[0m_executed\u001b[0m \u001b[0;34m=\u001b[0m \u001b[0mquery\u001b[0m\u001b[0;34m\u001b[0m\u001b[0m\n\u001b[1;32m    172\u001b[0m         \u001b[0;32mreturn\u001b[0m \u001b[0mresult\u001b[0m\u001b[0;34m\u001b[0m\u001b[0m\n",
      "\u001b[0;32m~/.pyenv/versions/3.7.0/lib/python3.7/site-packages/pymysql/cursors.py\u001b[0m in \u001b[0;36m_query\u001b[0;34m(self, q)\u001b[0m\n\u001b[1;32m    326\u001b[0m         \u001b[0mself\u001b[0m\u001b[0;34m.\u001b[0m\u001b[0m_last_executed\u001b[0m \u001b[0;34m=\u001b[0m \u001b[0mq\u001b[0m\u001b[0;34m\u001b[0m\u001b[0m\n\u001b[1;32m    327\u001b[0m         \u001b[0mself\u001b[0m\u001b[0;34m.\u001b[0m\u001b[0m_clear_result\u001b[0m\u001b[0;34m(\u001b[0m\u001b[0;34m)\u001b[0m\u001b[0;34m\u001b[0m\u001b[0m\n\u001b[0;32m--> 328\u001b[0;31m         \u001b[0mconn\u001b[0m\u001b[0;34m.\u001b[0m\u001b[0mquery\u001b[0m\u001b[0;34m(\u001b[0m\u001b[0mq\u001b[0m\u001b[0;34m)\u001b[0m\u001b[0;34m\u001b[0m\u001b[0m\n\u001b[0m\u001b[1;32m    329\u001b[0m         \u001b[0mself\u001b[0m\u001b[0;34m.\u001b[0m\u001b[0m_do_get_result\u001b[0m\u001b[0;34m(\u001b[0m\u001b[0;34m)\u001b[0m\u001b[0;34m\u001b[0m\u001b[0m\n\u001b[1;32m    330\u001b[0m         \u001b[0;32mreturn\u001b[0m \u001b[0mself\u001b[0m\u001b[0;34m.\u001b[0m\u001b[0mrowcount\u001b[0m\u001b[0;34m\u001b[0m\u001b[0m\n",
      "\u001b[0;32m~/.pyenv/versions/3.7.0/lib/python3.7/site-packages/pymysql/connections.py\u001b[0m in \u001b[0;36mquery\u001b[0;34m(self, sql, unbuffered)\u001b[0m\n\u001b[1;32m    515\u001b[0m                 \u001b[0msql\u001b[0m \u001b[0;34m=\u001b[0m \u001b[0msql\u001b[0m\u001b[0;34m.\u001b[0m\u001b[0mencode\u001b[0m\u001b[0;34m(\u001b[0m\u001b[0mself\u001b[0m\u001b[0;34m.\u001b[0m\u001b[0mencoding\u001b[0m\u001b[0;34m,\u001b[0m \u001b[0;34m'surrogateescape'\u001b[0m\u001b[0;34m)\u001b[0m\u001b[0;34m\u001b[0m\u001b[0m\n\u001b[1;32m    516\u001b[0m         \u001b[0mself\u001b[0m\u001b[0;34m.\u001b[0m\u001b[0m_execute_command\u001b[0m\u001b[0;34m(\u001b[0m\u001b[0mCOMMAND\u001b[0m\u001b[0;34m.\u001b[0m\u001b[0mCOM_QUERY\u001b[0m\u001b[0;34m,\u001b[0m \u001b[0msql\u001b[0m\u001b[0;34m)\u001b[0m\u001b[0;34m\u001b[0m\u001b[0m\n\u001b[0;32m--> 517\u001b[0;31m         \u001b[0mself\u001b[0m\u001b[0;34m.\u001b[0m\u001b[0m_affected_rows\u001b[0m \u001b[0;34m=\u001b[0m \u001b[0mself\u001b[0m\u001b[0;34m.\u001b[0m\u001b[0m_read_query_result\u001b[0m\u001b[0;34m(\u001b[0m\u001b[0munbuffered\u001b[0m\u001b[0;34m=\u001b[0m\u001b[0munbuffered\u001b[0m\u001b[0;34m)\u001b[0m\u001b[0;34m\u001b[0m\u001b[0m\n\u001b[0m\u001b[1;32m    518\u001b[0m         \u001b[0;32mreturn\u001b[0m \u001b[0mself\u001b[0m\u001b[0;34m.\u001b[0m\u001b[0m_affected_rows\u001b[0m\u001b[0;34m\u001b[0m\u001b[0m\n\u001b[1;32m    519\u001b[0m \u001b[0;34m\u001b[0m\u001b[0m\n",
      "\u001b[0;32m~/.pyenv/versions/3.7.0/lib/python3.7/site-packages/pymysql/connections.py\u001b[0m in \u001b[0;36m_read_query_result\u001b[0;34m(self, unbuffered)\u001b[0m\n\u001b[1;32m    730\u001b[0m         \u001b[0;32melse\u001b[0m\u001b[0;34m:\u001b[0m\u001b[0;34m\u001b[0m\u001b[0m\n\u001b[1;32m    731\u001b[0m             \u001b[0mresult\u001b[0m \u001b[0;34m=\u001b[0m \u001b[0mMySQLResult\u001b[0m\u001b[0;34m(\u001b[0m\u001b[0mself\u001b[0m\u001b[0;34m)\u001b[0m\u001b[0;34m\u001b[0m\u001b[0m\n\u001b[0;32m--> 732\u001b[0;31m             \u001b[0mresult\u001b[0m\u001b[0;34m.\u001b[0m\u001b[0mread\u001b[0m\u001b[0;34m(\u001b[0m\u001b[0;34m)\u001b[0m\u001b[0;34m\u001b[0m\u001b[0m\n\u001b[0m\u001b[1;32m    733\u001b[0m         \u001b[0mself\u001b[0m\u001b[0;34m.\u001b[0m\u001b[0m_result\u001b[0m \u001b[0;34m=\u001b[0m \u001b[0mresult\u001b[0m\u001b[0;34m\u001b[0m\u001b[0m\n\u001b[1;32m    734\u001b[0m         \u001b[0;32mif\u001b[0m \u001b[0mresult\u001b[0m\u001b[0;34m.\u001b[0m\u001b[0mserver_status\u001b[0m \u001b[0;32mis\u001b[0m \u001b[0;32mnot\u001b[0m \u001b[0;32mNone\u001b[0m\u001b[0;34m:\u001b[0m\u001b[0;34m\u001b[0m\u001b[0m\n",
      "\u001b[0;32m~/.pyenv/versions/3.7.0/lib/python3.7/site-packages/pymysql/connections.py\u001b[0m in \u001b[0;36mread\u001b[0;34m(self)\u001b[0m\n\u001b[1;32m   1073\u001b[0m     \u001b[0;32mdef\u001b[0m \u001b[0mread\u001b[0m\u001b[0;34m(\u001b[0m\u001b[0mself\u001b[0m\u001b[0;34m)\u001b[0m\u001b[0;34m:\u001b[0m\u001b[0;34m\u001b[0m\u001b[0m\n\u001b[1;32m   1074\u001b[0m         \u001b[0;32mtry\u001b[0m\u001b[0;34m:\u001b[0m\u001b[0;34m\u001b[0m\u001b[0m\n\u001b[0;32m-> 1075\u001b[0;31m             \u001b[0mfirst_packet\u001b[0m \u001b[0;34m=\u001b[0m \u001b[0mself\u001b[0m\u001b[0;34m.\u001b[0m\u001b[0mconnection\u001b[0m\u001b[0;34m.\u001b[0m\u001b[0m_read_packet\u001b[0m\u001b[0;34m(\u001b[0m\u001b[0;34m)\u001b[0m\u001b[0;34m\u001b[0m\u001b[0m\n\u001b[0m\u001b[1;32m   1076\u001b[0m \u001b[0;34m\u001b[0m\u001b[0m\n\u001b[1;32m   1077\u001b[0m             \u001b[0;32mif\u001b[0m \u001b[0mfirst_packet\u001b[0m\u001b[0;34m.\u001b[0m\u001b[0mis_ok_packet\u001b[0m\u001b[0;34m(\u001b[0m\u001b[0;34m)\u001b[0m\u001b[0;34m:\u001b[0m\u001b[0;34m\u001b[0m\u001b[0m\n",
      "\u001b[0;32m~/.pyenv/versions/3.7.0/lib/python3.7/site-packages/pymysql/connections.py\u001b[0m in \u001b[0;36m_read_packet\u001b[0;34m(self, packet_type)\u001b[0m\n\u001b[1;32m    682\u001b[0m \u001b[0;34m\u001b[0m\u001b[0m\n\u001b[1;32m    683\u001b[0m         \u001b[0mpacket\u001b[0m \u001b[0;34m=\u001b[0m \u001b[0mpacket_type\u001b[0m\u001b[0;34m(\u001b[0m\u001b[0mbuff\u001b[0m\u001b[0;34m,\u001b[0m \u001b[0mself\u001b[0m\u001b[0;34m.\u001b[0m\u001b[0mencoding\u001b[0m\u001b[0;34m)\u001b[0m\u001b[0;34m\u001b[0m\u001b[0m\n\u001b[0;32m--> 684\u001b[0;31m         \u001b[0mpacket\u001b[0m\u001b[0;34m.\u001b[0m\u001b[0mcheck_error\u001b[0m\u001b[0;34m(\u001b[0m\u001b[0;34m)\u001b[0m\u001b[0;34m\u001b[0m\u001b[0m\n\u001b[0m\u001b[1;32m    685\u001b[0m         \u001b[0;32mreturn\u001b[0m \u001b[0mpacket\u001b[0m\u001b[0;34m\u001b[0m\u001b[0m\n\u001b[1;32m    686\u001b[0m \u001b[0;34m\u001b[0m\u001b[0m\n",
      "\u001b[0;32m~/.pyenv/versions/3.7.0/lib/python3.7/site-packages/pymysql/protocol.py\u001b[0m in \u001b[0;36mcheck_error\u001b[0;34m(self)\u001b[0m\n\u001b[1;32m    218\u001b[0m             \u001b[0merrno\u001b[0m \u001b[0;34m=\u001b[0m \u001b[0mself\u001b[0m\u001b[0;34m.\u001b[0m\u001b[0mread_uint16\u001b[0m\u001b[0;34m(\u001b[0m\u001b[0;34m)\u001b[0m\u001b[0;34m\u001b[0m\u001b[0m\n\u001b[1;32m    219\u001b[0m             \u001b[0;32mif\u001b[0m \u001b[0mDEBUG\u001b[0m\u001b[0;34m:\u001b[0m \u001b[0mprint\u001b[0m\u001b[0;34m(\u001b[0m\u001b[0;34m\"errno =\"\u001b[0m\u001b[0;34m,\u001b[0m \u001b[0merrno\u001b[0m\u001b[0;34m)\u001b[0m\u001b[0;34m\u001b[0m\u001b[0m\n\u001b[0;32m--> 220\u001b[0;31m             \u001b[0merr\u001b[0m\u001b[0;34m.\u001b[0m\u001b[0mraise_mysql_exception\u001b[0m\u001b[0;34m(\u001b[0m\u001b[0mself\u001b[0m\u001b[0;34m.\u001b[0m\u001b[0m_data\u001b[0m\u001b[0;34m)\u001b[0m\u001b[0;34m\u001b[0m\u001b[0m\n\u001b[0m\u001b[1;32m    221\u001b[0m \u001b[0;34m\u001b[0m\u001b[0m\n\u001b[1;32m    222\u001b[0m     \u001b[0;32mdef\u001b[0m \u001b[0mdump\u001b[0m\u001b[0;34m(\u001b[0m\u001b[0mself\u001b[0m\u001b[0;34m)\u001b[0m\u001b[0;34m:\u001b[0m\u001b[0;34m\u001b[0m\u001b[0m\n",
      "\u001b[0;32m~/.pyenv/versions/3.7.0/lib/python3.7/site-packages/pymysql/err.py\u001b[0m in \u001b[0;36mraise_mysql_exception\u001b[0;34m(data)\u001b[0m\n\u001b[1;32m    107\u001b[0m         \u001b[0merrval\u001b[0m \u001b[0;34m=\u001b[0m \u001b[0mdata\u001b[0m\u001b[0;34m[\u001b[0m\u001b[0;36m3\u001b[0m\u001b[0;34m:\u001b[0m\u001b[0;34m]\u001b[0m\u001b[0;34m.\u001b[0m\u001b[0mdecode\u001b[0m\u001b[0;34m(\u001b[0m\u001b[0;34m'utf-8'\u001b[0m\u001b[0;34m,\u001b[0m \u001b[0;34m'replace'\u001b[0m\u001b[0;34m)\u001b[0m\u001b[0;34m\u001b[0m\u001b[0m\n\u001b[1;32m    108\u001b[0m     \u001b[0merrorclass\u001b[0m \u001b[0;34m=\u001b[0m \u001b[0merror_map\u001b[0m\u001b[0;34m.\u001b[0m\u001b[0mget\u001b[0m\u001b[0;34m(\u001b[0m\u001b[0merrno\u001b[0m\u001b[0;34m,\u001b[0m \u001b[0mInternalError\u001b[0m\u001b[0;34m)\u001b[0m\u001b[0;34m\u001b[0m\u001b[0m\n\u001b[0;32m--> 109\u001b[0;31m     \u001b[0;32mraise\u001b[0m \u001b[0merrorclass\u001b[0m\u001b[0;34m(\u001b[0m\u001b[0merrno\u001b[0m\u001b[0;34m,\u001b[0m \u001b[0merrval\u001b[0m\u001b[0;34m)\u001b[0m\u001b[0;34m\u001b[0m\u001b[0m\n\u001b[0m",
      "\u001b[0;31mInternalError\u001b[0m: (1370, \"execute command denied to user 'QiOMXYrlNR'@'%' for routine 'QiOMXYrlNR.CORR'\")"
     ]
    }
   ],
   "source": [
    "cursor.execute(\"SELECT CORR(total_wins, kills) FROM matchmaking_stats_summary;\")"
   ]
  },
  {
   "cell_type": "markdown",
   "metadata": {},
   "source": [
    "# Correlation Using Pandas"
   ]
  },
  {
   "cell_type": "code",
   "execution_count": 38,
   "metadata": {},
   "outputs": [],
   "source": [
    "import pandas as pd\n",
    "match = pd.read_csv('csv/matchmaking_stats.csv')"
   ]
  },
  {
   "cell_type": "code",
   "execution_count": 40,
   "metadata": {},
   "outputs": [
    {
     "data": {
      "text/html": [
       "<div>\n",
       "<style scoped>\n",
       "    .dataframe tbody tr th:only-of-type {\n",
       "        vertical-align: middle;\n",
       "    }\n",
       "\n",
       "    .dataframe tbody tr th {\n",
       "        vertical-align: top;\n",
       "    }\n",
       "\n",
       "    .dataframe thead th {\n",
       "        text-align: right;\n",
       "    }\n",
       "</style>\n",
       "<table border=\"1\" class=\"dataframe\">\n",
       "  <thead>\n",
       "    <tr style=\"text-align: right;\">\n",
       "      <th></th>\n",
       "      <th>matches_played</th>\n",
       "      <th>total_wins</th>\n",
       "      <th>total_loss</th>\n",
       "      <th>mm_points</th>\n",
       "      <th>kills</th>\n",
       "      <th>death</th>\n",
       "      <th>assist</th>\n",
       "      <th>hs</th>\n",
       "    </tr>\n",
       "  </thead>\n",
       "  <tbody>\n",
       "    <tr>\n",
       "      <th>0</th>\n",
       "      <td>1</td>\n",
       "      <td>1</td>\n",
       "      <td>0</td>\n",
       "      <td>3</td>\n",
       "      <td>13</td>\n",
       "      <td>13</td>\n",
       "      <td>5</td>\n",
       "      <td>6</td>\n",
       "    </tr>\n",
       "    <tr>\n",
       "      <th>1</th>\n",
       "      <td>1</td>\n",
       "      <td>0</td>\n",
       "      <td>1</td>\n",
       "      <td>-1</td>\n",
       "      <td>15</td>\n",
       "      <td>20</td>\n",
       "      <td>3</td>\n",
       "      <td>2</td>\n",
       "    </tr>\n",
       "    <tr>\n",
       "      <th>2</th>\n",
       "      <td>1</td>\n",
       "      <td>0</td>\n",
       "      <td>1</td>\n",
       "      <td>-1</td>\n",
       "      <td>7</td>\n",
       "      <td>23</td>\n",
       "      <td>5</td>\n",
       "      <td>4</td>\n",
       "    </tr>\n",
       "    <tr>\n",
       "      <th>3</th>\n",
       "      <td>1</td>\n",
       "      <td>0</td>\n",
       "      <td>1</td>\n",
       "      <td>-1</td>\n",
       "      <td>11</td>\n",
       "      <td>21</td>\n",
       "      <td>3</td>\n",
       "      <td>8</td>\n",
       "    </tr>\n",
       "    <tr>\n",
       "      <th>4</th>\n",
       "      <td>1</td>\n",
       "      <td>1</td>\n",
       "      <td>0</td>\n",
       "      <td>3</td>\n",
       "      <td>21</td>\n",
       "      <td>13</td>\n",
       "      <td>2</td>\n",
       "      <td>11</td>\n",
       "    </tr>\n",
       "    <tr>\n",
       "      <th>...</th>\n",
       "      <td>...</td>\n",
       "      <td>...</td>\n",
       "      <td>...</td>\n",
       "      <td>...</td>\n",
       "      <td>...</td>\n",
       "      <td>...</td>\n",
       "      <td>...</td>\n",
       "      <td>...</td>\n",
       "    </tr>\n",
       "    <tr>\n",
       "      <th>2052</th>\n",
       "      <td>2</td>\n",
       "      <td>1</td>\n",
       "      <td>1</td>\n",
       "      <td>2</td>\n",
       "      <td>23</td>\n",
       "      <td>35</td>\n",
       "      <td>7</td>\n",
       "      <td>18</td>\n",
       "    </tr>\n",
       "    <tr>\n",
       "      <th>2053</th>\n",
       "      <td>1</td>\n",
       "      <td>1</td>\n",
       "      <td>0</td>\n",
       "      <td>3</td>\n",
       "      <td>11</td>\n",
       "      <td>12</td>\n",
       "      <td>3</td>\n",
       "      <td>1</td>\n",
       "    </tr>\n",
       "    <tr>\n",
       "      <th>2054</th>\n",
       "      <td>8</td>\n",
       "      <td>2</td>\n",
       "      <td>6</td>\n",
       "      <td>0</td>\n",
       "      <td>77</td>\n",
       "      <td>169</td>\n",
       "      <td>37</td>\n",
       "      <td>25</td>\n",
       "    </tr>\n",
       "    <tr>\n",
       "      <th>2055</th>\n",
       "      <td>1</td>\n",
       "      <td>1</td>\n",
       "      <td>0</td>\n",
       "      <td>3</td>\n",
       "      <td>17</td>\n",
       "      <td>13</td>\n",
       "      <td>3</td>\n",
       "      <td>15</td>\n",
       "    </tr>\n",
       "    <tr>\n",
       "      <th>2056</th>\n",
       "      <td>10</td>\n",
       "      <td>3</td>\n",
       "      <td>7</td>\n",
       "      <td>2</td>\n",
       "      <td>116</td>\n",
       "      <td>219</td>\n",
       "      <td>41</td>\n",
       "      <td>68</td>\n",
       "    </tr>\n",
       "  </tbody>\n",
       "</table>\n",
       "<p>2057 rows × 8 columns</p>\n",
       "</div>"
      ],
      "text/plain": [
       "      matches_played  total_wins  total_loss  mm_points  kills  death  assist  \\\n",
       "0                  1           1           0          3     13     13       5   \n",
       "1                  1           0           1         -1     15     20       3   \n",
       "2                  1           0           1         -1      7     23       5   \n",
       "3                  1           0           1         -1     11     21       3   \n",
       "4                  1           1           0          3     21     13       2   \n",
       "...              ...         ...         ...        ...    ...    ...     ...   \n",
       "2052               2           1           1          2     23     35       7   \n",
       "2053               1           1           0          3     11     12       3   \n",
       "2054               8           2           6          0     77    169      37   \n",
       "2055               1           1           0          3     17     13       3   \n",
       "2056              10           3           7          2    116    219      41   \n",
       "\n",
       "      hs  \n",
       "0      6  \n",
       "1      2  \n",
       "2      4  \n",
       "3      8  \n",
       "4     11  \n",
       "...   ..  \n",
       "2052  18  \n",
       "2053   1  \n",
       "2054  25  \n",
       "2055  15  \n",
       "2056  68  \n",
       "\n",
       "[2057 rows x 8 columns]"
      ]
     },
     "execution_count": 40,
     "metadata": {},
     "output_type": "execute_result"
    }
   ],
   "source": [
    "#Removing the unnecessaries columns\n",
    "my_df = match.drop(columns=['player_id', 'created_at', 'updated_at'])\n",
    "my_df"
   ]
  },
  {
   "cell_type": "markdown",
   "metadata": {},
   "source": [
    "* ## Aplying the Pearson Correlation Method:"
   ]
  },
  {
   "cell_type": "code",
   "execution_count": 41,
   "metadata": {},
   "outputs": [
    {
     "data": {
      "text/html": [
       "<div>\n",
       "<style scoped>\n",
       "    .dataframe tbody tr th:only-of-type {\n",
       "        vertical-align: middle;\n",
       "    }\n",
       "\n",
       "    .dataframe tbody tr th {\n",
       "        vertical-align: top;\n",
       "    }\n",
       "\n",
       "    .dataframe thead th {\n",
       "        text-align: right;\n",
       "    }\n",
       "</style>\n",
       "<table border=\"1\" class=\"dataframe\">\n",
       "  <thead>\n",
       "    <tr style=\"text-align: right;\">\n",
       "      <th></th>\n",
       "      <th>matches_played</th>\n",
       "      <th>total_wins</th>\n",
       "      <th>total_loss</th>\n",
       "      <th>mm_points</th>\n",
       "      <th>kills</th>\n",
       "      <th>death</th>\n",
       "      <th>assist</th>\n",
       "      <th>hs</th>\n",
       "    </tr>\n",
       "  </thead>\n",
       "  <tbody>\n",
       "    <tr>\n",
       "      <th>matches_played</th>\n",
       "      <td>1.000000</td>\n",
       "      <td>0.887964</td>\n",
       "      <td>0.878356</td>\n",
       "      <td>0.689930</td>\n",
       "      <td>0.974546</td>\n",
       "      <td>0.984908</td>\n",
       "      <td>0.949598</td>\n",
       "      <td>0.914814</td>\n",
       "    </tr>\n",
       "    <tr>\n",
       "      <th>total_wins</th>\n",
       "      <td>0.887964</td>\n",
       "      <td>1.000000</td>\n",
       "      <td>0.560330</td>\n",
       "      <td>0.944465</td>\n",
       "      <td>0.906658</td>\n",
       "      <td>0.855386</td>\n",
       "      <td>0.884865</td>\n",
       "      <td>0.881565</td>\n",
       "    </tr>\n",
       "    <tr>\n",
       "      <th>total_loss</th>\n",
       "      <td>0.878356</td>\n",
       "      <td>0.560330</td>\n",
       "      <td>1.000000</td>\n",
       "      <td>0.261150</td>\n",
       "      <td>0.812837</td>\n",
       "      <td>0.885040</td>\n",
       "      <td>0.790564</td>\n",
       "      <td>0.731682</td>\n",
       "    </tr>\n",
       "    <tr>\n",
       "      <th>mm_points</th>\n",
       "      <td>0.689930</td>\n",
       "      <td>0.944465</td>\n",
       "      <td>0.261150</td>\n",
       "      <td>1.000000</td>\n",
       "      <td>0.740193</td>\n",
       "      <td>0.651729</td>\n",
       "      <td>0.723895</td>\n",
       "      <td>0.743512</td>\n",
       "    </tr>\n",
       "    <tr>\n",
       "      <th>kills</th>\n",
       "      <td>0.974546</td>\n",
       "      <td>0.906658</td>\n",
       "      <td>0.812837</td>\n",
       "      <td>0.740193</td>\n",
       "      <td>1.000000</td>\n",
       "      <td>0.973337</td>\n",
       "      <td>0.956963</td>\n",
       "      <td>0.954986</td>\n",
       "    </tr>\n",
       "    <tr>\n",
       "      <th>death</th>\n",
       "      <td>0.984908</td>\n",
       "      <td>0.855386</td>\n",
       "      <td>0.885040</td>\n",
       "      <td>0.651729</td>\n",
       "      <td>0.973337</td>\n",
       "      <td>1.000000</td>\n",
       "      <td>0.953071</td>\n",
       "      <td>0.910926</td>\n",
       "    </tr>\n",
       "    <tr>\n",
       "      <th>assist</th>\n",
       "      <td>0.949598</td>\n",
       "      <td>0.884865</td>\n",
       "      <td>0.790564</td>\n",
       "      <td>0.723895</td>\n",
       "      <td>0.956963</td>\n",
       "      <td>0.953071</td>\n",
       "      <td>1.000000</td>\n",
       "      <td>0.901647</td>\n",
       "    </tr>\n",
       "    <tr>\n",
       "      <th>hs</th>\n",
       "      <td>0.914814</td>\n",
       "      <td>0.881565</td>\n",
       "      <td>0.731682</td>\n",
       "      <td>0.743512</td>\n",
       "      <td>0.954986</td>\n",
       "      <td>0.910926</td>\n",
       "      <td>0.901647</td>\n",
       "      <td>1.000000</td>\n",
       "    </tr>\n",
       "  </tbody>\n",
       "</table>\n",
       "</div>"
      ],
      "text/plain": [
       "                matches_played  total_wins  total_loss  mm_points     kills  \\\n",
       "matches_played        1.000000    0.887964    0.878356   0.689930  0.974546   \n",
       "total_wins            0.887964    1.000000    0.560330   0.944465  0.906658   \n",
       "total_loss            0.878356    0.560330    1.000000   0.261150  0.812837   \n",
       "mm_points             0.689930    0.944465    0.261150   1.000000  0.740193   \n",
       "kills                 0.974546    0.906658    0.812837   0.740193  1.000000   \n",
       "death                 0.984908    0.855386    0.885040   0.651729  0.973337   \n",
       "assist                0.949598    0.884865    0.790564   0.723895  0.956963   \n",
       "hs                    0.914814    0.881565    0.731682   0.743512  0.954986   \n",
       "\n",
       "                   death    assist        hs  \n",
       "matches_played  0.984908  0.949598  0.914814  \n",
       "total_wins      0.855386  0.884865  0.881565  \n",
       "total_loss      0.885040  0.790564  0.731682  \n",
       "mm_points       0.651729  0.723895  0.743512  \n",
       "kills           0.973337  0.956963  0.954986  \n",
       "death           1.000000  0.953071  0.910926  \n",
       "assist          0.953071  1.000000  0.901647  \n",
       "hs              0.910926  0.901647  1.000000  "
      ]
     },
     "execution_count": 41,
     "metadata": {},
     "output_type": "execute_result"
    }
   ],
   "source": [
    "my_df.corr(method ='pearson')"
   ]
  },
  {
   "cell_type": "code",
   "execution_count": 43,
   "metadata": {},
   "outputs": [
    {
     "data": {
      "text/plain": [
       "<matplotlib.axes._subplots.AxesSubplot at 0x7ff33e40e470>"
      ]
     },
     "execution_count": 43,
     "metadata": {},
     "output_type": "execute_result"
    },
    {
     "data": {
      "image/png": "[encoded data removed]",
      "text/plain": [
       "<Figure size 432x288 with 2 Axes>"
      ]
     },
     "metadata": {
      "needs_background": "light"
     },
     "output_type": "display_data"
    }
   ],
   "source": [
    "import seaborn as sns\n",
    "import numpy as np\n",
    "import pandas as pd\n",
    "import matplotlib.pyplot as plt\n",
    "heatmap_chart = sns.heatmap(my_df.corr(method ='pearson'), annot = True, fmt='.1g', \n",
    "            cmap= 'coolwarm', linewidths=2.5, linecolor='black')\n",
    "heatmap_chart"
   ]
  },
  {
   "cell_type": "code",
   "execution_count": null,
   "metadata": {},
   "outputs": [],
   "source": []
  }
 ],
 "metadata": {
  "kernelspec": {
   "display_name": "Python 3",
   "language": "python",
   "name": "python3"
  },
  "language_info": {
   "codemirror_mode": {
    "name": "ipython",
    "version": 3
   },
   "file_extension": ".py",
   "mimetype": "text/x-python",
   "name": "python",
   "nbconvert_exporter": "python",
   "pygments_lexer": "ipython3",
   "version": "3.7.0"
  }
 },
 "nbformat": 4,
 "nbformat_minor": 4
}
