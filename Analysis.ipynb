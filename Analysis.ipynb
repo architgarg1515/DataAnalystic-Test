{
 "cells": [
  {
   "cell_type": "code",
   "execution_count": 7,
   "metadata": {},
   "outputs": [],
   "source": [
    "import os\n",
    "import pymysql\n",
    "import dotenv\n",
    "from dotenv import load_dotenv\n",
    "load_dotenv()\n",
    "\n",
    "HOST = os.getenv('HOST')\n",
    "USER = os.getenv('MYSQL_USER')\n",
    "PASSWORD = os.getenv('MYSQL_ROOT_PASSWORD')\n",
    "DB = os.getenv('MYSQL_DATABASE')\n",
    "\n",
    "connection = pymysql.connect(host=HOST, \n",
    "                      user = USER,\n",
    "                     password = PASSWORD,\n",
    "                     db = DB)\n",
    "\n",
    "cursor = connection.cursor()"
   ]
  },
  {
   "cell_type": "markdown",
   "metadata": {},
   "source": [
    "* ## Quantos usuários únicos não jogaram após o dia 03/02/2020?\n",
    "> A análise de jogos por usuário será feita a partir de updated_at (última atualização do registro), na tabela matchmaking_stats_summary\n",
    "\n",
    ">OBS: updated_at e created_at possuem sempre a mesma data neste banco de dados\n",
    ">Como o número de usuários que jogaram é diferente do número de usuários distintos, sei que um mesmo usuário jogou várias partidas."
   ]
  },
  {
   "cell_type": "code",
   "execution_count": 2,
   "metadata": {},
   "outputs": [
    {
     "data": {
      "text/plain": [
       "(2057, 2030)"
      ]
     },
     "execution_count": 2,
     "metadata": {},
     "output_type": "execute_result"
    }
   ],
   "source": [
    "#Retrieving the total user number:\n",
    "total_registros = cursor.execute(\"SELECT player_id FROM matchmaking_stats_summary\")\n",
    "total = cursor.execute(\"SELECT DISTINCT player_id FROM matchmaking_stats_summary\")\n",
    "(total_registros, total)\n",
    "#27 usuers has played more than one single date "
   ]
  },
  {
   "cell_type": "code",
   "execution_count": 3,
   "metadata": {},
   "outputs": [
    {
     "data": {
      "text/plain": [
       "1304"
      ]
     },
     "execution_count": 3,
     "metadata": {},
     "output_type": "execute_result"
    }
   ],
   "source": [
    "#\"%Y/%m/%d\"\n",
    "#Retrieving the number of players who played after this date 03/02/2020\n",
    "strong_players = cursor.execute(\"SELECT DISTINCT player_id FROM matchmaking_stats_summary WHERE updated_at >= '2020-02-03'\")\n",
    "strong_players"
   ]
  },
  {
   "cell_type": "code",
   "execution_count": 5,
   "metadata": {},
   "outputs": [
    {
     "data": {
      "text/plain": [
       "726"
      ]
     },
     "execution_count": 5,
     "metadata": {},
     "output_type": "execute_result"
    }
   ],
   "source": [
    "#Retrieving the number of player who haven't played\n",
    "weak_players = total - strong_players\n",
    "weak_players"
   ]
  },
  {
   "cell_type": "markdown",
   "metadata": {},
   "source": [
    "* ## Quantos usuários únicos jogaram em fevereiro após o dia 06/02/2020?\n",
    "> Usando o mesmo raciocínio do exercício anterior "
   ]
  },
  {
   "cell_type": "code",
   "execution_count": 8,
   "metadata": {},
   "outputs": [
    {
     "data": {
      "text/plain": [
       "2030"
      ]
     },
     "execution_count": 8,
     "metadata": {},
     "output_type": "execute_result"
    }
   ],
   "source": [
    "#Retrieving the total user number:\n",
    "total = cursor.execute(\"SELECT distinct player_id FROM matchmaking_stats_summary\")\n",
    "total"
   ]
  },
  {
   "cell_type": "code",
   "execution_count": 12,
   "metadata": {},
   "outputs": [
    {
     "data": {
      "text/plain": [
       "0"
      ]
     },
     "execution_count": 12,
     "metadata": {},
     "output_type": "execute_result"
    }
   ],
   "source": [
    "#Retrieving the number of users who played after the date \n",
    "faithful_players = cursor.execute(\"SELECT DISTINCT player_id FROM matchmaking_stats_summary WHERE updated_at > '2020-02-06 23:59:59'\")\n",
    "faithful_players"
   ]
  },
  {
   "cell_type": "code",
   "execution_count": 14,
   "metadata": {},
   "outputs": [
    {
     "data": {
      "text/plain": [
       "0"
      ]
     },
     "execution_count": 14,
     "metadata": {},
     "output_type": "execute_result"
    }
   ],
   "source": [
    "#or\n",
    "faithful_players = cursor.execute(\"SELECT DISTINCT player_id FROM matchmaking_stats_summary WHERE updated_at >= '2020-02-07'\")\n",
    "faithful_players"
   ]
  },
  {
   "cell_type": "code",
   "execution_count": null,
   "metadata": {},
   "outputs": [],
   "source": []
  }
 ],
 "metadata": {
  "kernelspec": {
   "display_name": "Python 3",
   "language": "python",
   "name": "python3"
  },
  "language_info": {
   "codemirror_mode": {
    "name": "ipython",
    "version": 3
   },
   "file_extension": ".py",
   "mimetype": "text/x-python",
   "name": "python",
   "nbconvert_exporter": "python",
   "pygments_lexer": "ipython3",
   "version": "3.7.0"
  }
 },
 "nbformat": 4,
 "nbformat_minor": 4
}
