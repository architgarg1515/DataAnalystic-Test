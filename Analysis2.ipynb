{
 "cells": [
  {
   "cell_type": "markdown",
   "metadata": {},
   "source": [
    "# In this notebook I am exploring the datasets to build plots to ilustrate my conclusions and to anser some questions about the users. "
   ]
  },
  {
   "cell_type": "code",
   "execution_count": 96,
   "metadata": {},
   "outputs": [],
   "source": [
    "import os\n",
    "import pymysql\n",
    "import dotenv\n",
    "from dotenv import load_dotenv\n",
    "load_dotenv()\n",
    "\n",
    "HOST = os.getenv('HOST')\n",
    "USER = os.getenv('MYSQL_USER')\n",
    "PASSWORD = os.getenv('MYSQL_ROOT_PASSWORD')\n",
    "DB = os.getenv('MYSQL_DATABASE')\n",
    "\n",
    "connection = pymysql.connect(host=HOST, \n",
    "                      user = USER,\n",
    "                     password = PASSWORD,\n",
    "                     db = DB)\n",
    "\n",
    "cursor = connection.cursor()"
   ]
  },
  {
   "cell_type": "markdown",
   "metadata": {},
   "source": [
    "# Are the players of legal age?\n",
    ">I am going to look in the player_monthly_stats table to found what days were the most played days."
   ]
  },
  {
   "cell_type": "markdown",
   "metadata": {},
   "source": [
    "### Obs: There are a single record to each player:"
   ]
  },
  {
   "cell_type": "code",
   "execution_count": 8,
   "metadata": {},
   "outputs": [
    {
     "data": {
      "text/plain": [
       "True"
      ]
     },
     "execution_count": 8,
     "metadata": {},
     "output_type": "execute_result"
    }
   ],
   "source": [
    "query1 = 'SELECT DISTINCT player_id FROM player_monthly_stats'\n",
    "query2 = 'SELECT player_id FROM player_monthly_stats'\n",
    "cursor.execute(query1) == cursor.execute(query2)"
   ]
  },
  {
   "cell_type": "markdown",
   "metadata": {},
   "source": [
    "### Obs: There is only one date, in player_monthly table: 01/02/2020:"
   ]
  },
  {
   "cell_type": "code",
   "execution_count": 1,
   "metadata": {},
   "outputs": [],
   "source": [
    "cursor.execute('SELECT ref_date FROM player_monthly_stats')\n",
    "#cursor.fetchall()\n",
    "#This is returned: ((datetime.date(2020, 2, 1),),"
   ]
  },
  {
   "cell_type": "markdown",
   "metadata": {},
   "source": [
    "## Using the matchmaking_stats_summary table\n"
   ]
  },
  {
   "cell_type": "code",
   "execution_count": 93,
   "metadata": {},
   "outputs": [
    {
     "data": {
      "text/plain": [
       "6"
      ]
     },
     "execution_count": 93,
     "metadata": {},
     "output_type": "execute_result"
    }
   ],
   "source": [
    "query = \"select DISTINCT DATE_FORMAT(updated_at, '%c %d %Y') from matchmaking_stats_summary\"\n",
    "cursor.execute(query)\n",
    "\"\"\"It means that there are 6 distincts updated_at dates in this table\"\"\" "
   ]
  },
  {
   "cell_type": "code",
   "execution_count": 94,
   "metadata": {},
   "outputs": [
    {
     "data": {
      "text/plain": [
       "(('2 01 2020',),\n",
       " ('2 02 2020',),\n",
       " ('2 03 2020',),\n",
       " ('2 04 2020',),\n",
       " ('2 05 2020',),\n",
       " ('2 06 2020',))"
      ]
     },
     "execution_count": 94,
     "metadata": {},
     "output_type": "execute_result"
    }
   ],
   "source": [
    "cursor.execute(query)\n",
    "cursor.fetchall()"
   ]
  },
  {
   "cell_type": "code",
   "execution_count": 103,
   "metadata": {},
   "outputs": [
    {
     "data": {
      "text/plain": [
       "2057"
      ]
     },
     "execution_count": 103,
     "metadata": {},
     "output_type": "execute_result"
    }
   ],
   "source": [
    "whole_week = \"SELECT matches_played FROM matchmaking_stats_summary WHERE updated_at BETWEEN '2020-02-01' AND '2020-02-07'\"\n",
    "cursor.execute(whole_week)"
   ]
  },
  {
   "cell_type": "code",
   "execution_count": 105,
   "metadata": {},
   "outputs": [
    {
     "data": {
      "text/plain": [
       "1318"
      ]
     },
     "execution_count": 105,
     "metadata": {},
     "output_type": "execute_result"
    }
   ],
   "source": [
    "work_days = \"SELECT matches_played FROM matchmaking_stats_summary WHERE updated_at BETWEEN '2020-02-03' AND '2020-02-07'\"\n",
    "cursor.execute(work_days)"
   ]
  },
  {
   "cell_type": "code",
   "execution_count": 106,
   "metadata": {},
   "outputs": [
    {
     "data": {
      "text/plain": [
       "739"
      ]
     },
     "execution_count": 106,
     "metadata": {},
     "output_type": "execute_result"
    }
   ],
   "source": [
    "weekend_days = \"SELECT matches_played FROM matchmaking_stats_summary WHERE updated_at BETWEEN '2020-02-01 00:00:00' AND '2020-02-02 23:59:59'\"\n",
    "cursor.execute(weekend_days)"
   ]
  },
  {
   "cell_type": "markdown",
   "metadata": {},
   "source": [
    ">As I don't have a large amount of different day date, I can't suppose average age of players by the played date. I am talking about the played days, not about the player skills."
   ]
  },
  {
   "cell_type": "markdown",
   "metadata": {},
   "source": [
    "# How is the Player Skills?\n",
    ">I am looking for a way to analyse the players wins or players headshot relation by number of matches played."
   ]
  },
  {
   "cell_type": "code",
   "execution_count": 1,
   "metadata": {},
   "outputs": [
    {
     "name": "stderr",
     "output_type": "stream",
     "text": [
      "/home/visus/.pyenv/versions/3.7.0/lib/python3.7/site-packages/pandas/compat/__init__.py:117: UserWarning: Could not import the lzma module. Your installed Python is incomplete. Attempting to use lzma compression will result in a RuntimeError.\n",
      "  warnings.warn(msg)\n"
     ]
    },
    {
     "data": {
      "text/html": [
       "<div>\n",
       "<style scoped>\n",
       "    .dataframe tbody tr th:only-of-type {\n",
       "        vertical-align: middle;\n",
       "    }\n",
       "\n",
       "    .dataframe tbody tr th {\n",
       "        vertical-align: top;\n",
       "    }\n",
       "\n",
       "    .dataframe thead th {\n",
       "        text-align: right;\n",
       "    }\n",
       "</style>\n",
       "<table border=\"1\" class=\"dataframe\">\n",
       "  <thead>\n",
       "    <tr style=\"text-align: right;\">\n",
       "      <th></th>\n",
       "      <th>player_id</th>\n",
       "      <th>matches_played</th>\n",
       "      <th>total_wins</th>\n",
       "      <th>total_loss</th>\n",
       "      <th>mm_points</th>\n",
       "      <th>kills</th>\n",
       "      <th>death</th>\n",
       "      <th>assist</th>\n",
       "      <th>hs</th>\n",
       "      <th>created_at</th>\n",
       "      <th>updated_at</th>\n",
       "    </tr>\n",
       "  </thead>\n",
       "  <tbody>\n",
       "    <tr>\n",
       "      <th>0</th>\n",
       "      <td>354985</td>\n",
       "      <td>1</td>\n",
       "      <td>1</td>\n",
       "      <td>0</td>\n",
       "      <td>3</td>\n",
       "      <td>13</td>\n",
       "      <td>13</td>\n",
       "      <td>5</td>\n",
       "      <td>6</td>\n",
       "      <td>2020-02-01 00:47:32</td>\n",
       "      <td>2020-02-01 00:47:32</td>\n",
       "    </tr>\n",
       "    <tr>\n",
       "      <th>1</th>\n",
       "      <td>152268</td>\n",
       "      <td>1</td>\n",
       "      <td>0</td>\n",
       "      <td>1</td>\n",
       "      <td>-1</td>\n",
       "      <td>15</td>\n",
       "      <td>20</td>\n",
       "      <td>3</td>\n",
       "      <td>2</td>\n",
       "      <td>2020-02-01 00:54:01</td>\n",
       "      <td>2020-02-01 00:54:01</td>\n",
       "    </tr>\n",
       "    <tr>\n",
       "      <th>2</th>\n",
       "      <td>679247</td>\n",
       "      <td>1</td>\n",
       "      <td>0</td>\n",
       "      <td>1</td>\n",
       "      <td>-1</td>\n",
       "      <td>7</td>\n",
       "      <td>23</td>\n",
       "      <td>5</td>\n",
       "      <td>4</td>\n",
       "      <td>2020-02-01 01:00:31</td>\n",
       "      <td>2020-02-01 01:00:31</td>\n",
       "    </tr>\n",
       "    <tr>\n",
       "      <th>3</th>\n",
       "      <td>604607</td>\n",
       "      <td>1</td>\n",
       "      <td>0</td>\n",
       "      <td>1</td>\n",
       "      <td>-1</td>\n",
       "      <td>11</td>\n",
       "      <td>21</td>\n",
       "      <td>3</td>\n",
       "      <td>8</td>\n",
       "      <td>2020-02-01 01:03:02</td>\n",
       "      <td>2020-02-01 01:03:02</td>\n",
       "    </tr>\n",
       "    <tr>\n",
       "      <th>4</th>\n",
       "      <td>325203</td>\n",
       "      <td>1</td>\n",
       "      <td>1</td>\n",
       "      <td>0</td>\n",
       "      <td>3</td>\n",
       "      <td>21</td>\n",
       "      <td>13</td>\n",
       "      <td>2</td>\n",
       "      <td>11</td>\n",
       "      <td>2020-02-01 01:04:02</td>\n",
       "      <td>2020-02-01 01:04:02</td>\n",
       "    </tr>\n",
       "    <tr>\n",
       "      <th>...</th>\n",
       "      <td>...</td>\n",
       "      <td>...</td>\n",
       "      <td>...</td>\n",
       "      <td>...</td>\n",
       "      <td>...</td>\n",
       "      <td>...</td>\n",
       "      <td>...</td>\n",
       "      <td>...</td>\n",
       "      <td>...</td>\n",
       "      <td>...</td>\n",
       "      <td>...</td>\n",
       "    </tr>\n",
       "    <tr>\n",
       "      <th>2052</th>\n",
       "      <td>500543</td>\n",
       "      <td>2</td>\n",
       "      <td>1</td>\n",
       "      <td>1</td>\n",
       "      <td>2</td>\n",
       "      <td>23</td>\n",
       "      <td>35</td>\n",
       "      <td>7</td>\n",
       "      <td>18</td>\n",
       "      <td>2020-02-06 23:51:02</td>\n",
       "      <td>2020-02-06 23:51:02</td>\n",
       "    </tr>\n",
       "    <tr>\n",
       "      <th>2053</th>\n",
       "      <td>576674</td>\n",
       "      <td>1</td>\n",
       "      <td>1</td>\n",
       "      <td>0</td>\n",
       "      <td>3</td>\n",
       "      <td>11</td>\n",
       "      <td>12</td>\n",
       "      <td>3</td>\n",
       "      <td>1</td>\n",
       "      <td>2020-02-06 23:56:31</td>\n",
       "      <td>2020-02-06 23:56:31</td>\n",
       "    </tr>\n",
       "    <tr>\n",
       "      <th>2054</th>\n",
       "      <td>640357</td>\n",
       "      <td>8</td>\n",
       "      <td>2</td>\n",
       "      <td>6</td>\n",
       "      <td>0</td>\n",
       "      <td>77</td>\n",
       "      <td>169</td>\n",
       "      <td>37</td>\n",
       "      <td>25</td>\n",
       "      <td>2020-02-06 23:56:31</td>\n",
       "      <td>2020-02-06 23:56:31</td>\n",
       "    </tr>\n",
       "    <tr>\n",
       "      <th>2055</th>\n",
       "      <td>758201</td>\n",
       "      <td>1</td>\n",
       "      <td>1</td>\n",
       "      <td>0</td>\n",
       "      <td>3</td>\n",
       "      <td>17</td>\n",
       "      <td>13</td>\n",
       "      <td>3</td>\n",
       "      <td>15</td>\n",
       "      <td>2020-02-06 23:56:31</td>\n",
       "      <td>2020-02-06 23:56:31</td>\n",
       "    </tr>\n",
       "    <tr>\n",
       "      <th>2056</th>\n",
       "      <td>39554</td>\n",
       "      <td>10</td>\n",
       "      <td>3</td>\n",
       "      <td>7</td>\n",
       "      <td>2</td>\n",
       "      <td>116</td>\n",
       "      <td>219</td>\n",
       "      <td>41</td>\n",
       "      <td>68</td>\n",
       "      <td>2020-02-06 23:56:31</td>\n",
       "      <td>2020-02-06 23:56:31</td>\n",
       "    </tr>\n",
       "  </tbody>\n",
       "</table>\n",
       "<p>2057 rows × 11 columns</p>\n",
       "</div>"
      ],
      "text/plain": [
       "      player_id  matches_played  total_wins  total_loss  mm_points  kills  \\\n",
       "0        354985               1           1           0          3     13   \n",
       "1        152268               1           0           1         -1     15   \n",
       "2        679247               1           0           1         -1      7   \n",
       "3        604607               1           0           1         -1     11   \n",
       "4        325203               1           1           0          3     21   \n",
       "...         ...             ...         ...         ...        ...    ...   \n",
       "2052     500543               2           1           1          2     23   \n",
       "2053     576674               1           1           0          3     11   \n",
       "2054     640357               8           2           6          0     77   \n",
       "2055     758201               1           1           0          3     17   \n",
       "2056      39554              10           3           7          2    116   \n",
       "\n",
       "      death  assist  hs           created_at           updated_at  \n",
       "0        13       5   6  2020-02-01 00:47:32  2020-02-01 00:47:32  \n",
       "1        20       3   2  2020-02-01 00:54:01  2020-02-01 00:54:01  \n",
       "2        23       5   4  2020-02-01 01:00:31  2020-02-01 01:00:31  \n",
       "3        21       3   8  2020-02-01 01:03:02  2020-02-01 01:03:02  \n",
       "4        13       2  11  2020-02-01 01:04:02  2020-02-01 01:04:02  \n",
       "...     ...     ...  ..                  ...                  ...  \n",
       "2052     35       7  18  2020-02-06 23:51:02  2020-02-06 23:51:02  \n",
       "2053     12       3   1  2020-02-06 23:56:31  2020-02-06 23:56:31  \n",
       "2054    169      37  25  2020-02-06 23:56:31  2020-02-06 23:56:31  \n",
       "2055     13       3  15  2020-02-06 23:56:31  2020-02-06 23:56:31  \n",
       "2056    219      41  68  2020-02-06 23:56:31  2020-02-06 23:56:31  \n",
       "\n",
       "[2057 rows x 11 columns]"
      ]
     },
     "execution_count": 1,
     "metadata": {},
     "output_type": "execute_result"
    }
   ],
   "source": [
    "import pandas as pd\n",
    "match = pd.read_csv('csv/matchmaking_stats.csv')\n",
    "match"
   ]
  },
  {
   "cell_type": "code",
   "execution_count": 2,
   "metadata": {},
   "outputs": [
    {
     "data": {
      "text/html": [
       "<div>\n",
       "<style scoped>\n",
       "    .dataframe tbody tr th:only-of-type {\n",
       "        vertical-align: middle;\n",
       "    }\n",
       "\n",
       "    .dataframe tbody tr th {\n",
       "        vertical-align: top;\n",
       "    }\n",
       "\n",
       "    .dataframe thead th {\n",
       "        text-align: right;\n",
       "    }\n",
       "</style>\n",
       "<table border=\"1\" class=\"dataframe\">\n",
       "  <thead>\n",
       "    <tr style=\"text-align: right;\">\n",
       "      <th></th>\n",
       "      <th>player_id</th>\n",
       "      <th>matches_played</th>\n",
       "      <th>total_wins</th>\n",
       "      <th>total_loss</th>\n",
       "      <th>mm_points</th>\n",
       "      <th>kills</th>\n",
       "      <th>death</th>\n",
       "      <th>assist</th>\n",
       "      <th>hs</th>\n",
       "    </tr>\n",
       "  </thead>\n",
       "  <tbody>\n",
       "    <tr>\n",
       "      <th>0</th>\n",
       "      <td>354985</td>\n",
       "      <td>1</td>\n",
       "      <td>1</td>\n",
       "      <td>0</td>\n",
       "      <td>3</td>\n",
       "      <td>13</td>\n",
       "      <td>13</td>\n",
       "      <td>5</td>\n",
       "      <td>6</td>\n",
       "    </tr>\n",
       "    <tr>\n",
       "      <th>1</th>\n",
       "      <td>152268</td>\n",
       "      <td>1</td>\n",
       "      <td>0</td>\n",
       "      <td>1</td>\n",
       "      <td>-1</td>\n",
       "      <td>15</td>\n",
       "      <td>20</td>\n",
       "      <td>3</td>\n",
       "      <td>2</td>\n",
       "    </tr>\n",
       "    <tr>\n",
       "      <th>2</th>\n",
       "      <td>679247</td>\n",
       "      <td>1</td>\n",
       "      <td>0</td>\n",
       "      <td>1</td>\n",
       "      <td>-1</td>\n",
       "      <td>7</td>\n",
       "      <td>23</td>\n",
       "      <td>5</td>\n",
       "      <td>4</td>\n",
       "    </tr>\n",
       "    <tr>\n",
       "      <th>3</th>\n",
       "      <td>604607</td>\n",
       "      <td>1</td>\n",
       "      <td>0</td>\n",
       "      <td>1</td>\n",
       "      <td>-1</td>\n",
       "      <td>11</td>\n",
       "      <td>21</td>\n",
       "      <td>3</td>\n",
       "      <td>8</td>\n",
       "    </tr>\n",
       "    <tr>\n",
       "      <th>4</th>\n",
       "      <td>325203</td>\n",
       "      <td>1</td>\n",
       "      <td>1</td>\n",
       "      <td>0</td>\n",
       "      <td>3</td>\n",
       "      <td>21</td>\n",
       "      <td>13</td>\n",
       "      <td>2</td>\n",
       "      <td>11</td>\n",
       "    </tr>\n",
       "    <tr>\n",
       "      <th>...</th>\n",
       "      <td>...</td>\n",
       "      <td>...</td>\n",
       "      <td>...</td>\n",
       "      <td>...</td>\n",
       "      <td>...</td>\n",
       "      <td>...</td>\n",
       "      <td>...</td>\n",
       "      <td>...</td>\n",
       "      <td>...</td>\n",
       "    </tr>\n",
       "    <tr>\n",
       "      <th>2052</th>\n",
       "      <td>500543</td>\n",
       "      <td>2</td>\n",
       "      <td>1</td>\n",
       "      <td>1</td>\n",
       "      <td>2</td>\n",
       "      <td>23</td>\n",
       "      <td>35</td>\n",
       "      <td>7</td>\n",
       "      <td>18</td>\n",
       "    </tr>\n",
       "    <tr>\n",
       "      <th>2053</th>\n",
       "      <td>576674</td>\n",
       "      <td>1</td>\n",
       "      <td>1</td>\n",
       "      <td>0</td>\n",
       "      <td>3</td>\n",
       "      <td>11</td>\n",
       "      <td>12</td>\n",
       "      <td>3</td>\n",
       "      <td>1</td>\n",
       "    </tr>\n",
       "    <tr>\n",
       "      <th>2054</th>\n",
       "      <td>640357</td>\n",
       "      <td>8</td>\n",
       "      <td>2</td>\n",
       "      <td>6</td>\n",
       "      <td>0</td>\n",
       "      <td>77</td>\n",
       "      <td>169</td>\n",
       "      <td>37</td>\n",
       "      <td>25</td>\n",
       "    </tr>\n",
       "    <tr>\n",
       "      <th>2055</th>\n",
       "      <td>758201</td>\n",
       "      <td>1</td>\n",
       "      <td>1</td>\n",
       "      <td>0</td>\n",
       "      <td>3</td>\n",
       "      <td>17</td>\n",
       "      <td>13</td>\n",
       "      <td>3</td>\n",
       "      <td>15</td>\n",
       "    </tr>\n",
       "    <tr>\n",
       "      <th>2056</th>\n",
       "      <td>39554</td>\n",
       "      <td>10</td>\n",
       "      <td>3</td>\n",
       "      <td>7</td>\n",
       "      <td>2</td>\n",
       "      <td>116</td>\n",
       "      <td>219</td>\n",
       "      <td>41</td>\n",
       "      <td>68</td>\n",
       "    </tr>\n",
       "  </tbody>\n",
       "</table>\n",
       "<p>2057 rows × 9 columns</p>\n",
       "</div>"
      ],
      "text/plain": [
       "      player_id  matches_played  total_wins  total_loss  mm_points  kills  \\\n",
       "0        354985               1           1           0          3     13   \n",
       "1        152268               1           0           1         -1     15   \n",
       "2        679247               1           0           1         -1      7   \n",
       "3        604607               1           0           1         -1     11   \n",
       "4        325203               1           1           0          3     21   \n",
       "...         ...             ...         ...         ...        ...    ...   \n",
       "2052     500543               2           1           1          2     23   \n",
       "2053     576674               1           1           0          3     11   \n",
       "2054     640357               8           2           6          0     77   \n",
       "2055     758201               1           1           0          3     17   \n",
       "2056      39554              10           3           7          2    116   \n",
       "\n",
       "      death  assist  hs  \n",
       "0        13       5   6  \n",
       "1        20       3   2  \n",
       "2        23       5   4  \n",
       "3        21       3   8  \n",
       "4        13       2  11  \n",
       "...     ...     ...  ..  \n",
       "2052     35       7  18  \n",
       "2053     12       3   1  \n",
       "2054    169      37  25  \n",
       "2055     13       3  15  \n",
       "2056    219      41  68  \n",
       "\n",
       "[2057 rows x 9 columns]"
      ]
     },
     "execution_count": 2,
     "metadata": {},
     "output_type": "execute_result"
    }
   ],
   "source": [
    "#Removing the unnecessaries columns\n",
    "my_df = match.drop(columns=['created_at', 'updated_at'])\n",
    "my_df"
   ]
  },
  {
   "cell_type": "code",
   "execution_count": 5,
   "metadata": {},
   "outputs": [
    {
     "data": {
      "text/plain": [
       "<matplotlib.axes._subplots.AxesSubplot at 0x7ffb8f1e6748>"
      ]
     },
     "execution_count": 5,
     "metadata": {},
     "output_type": "execute_result"
    },
    {
     "data": {
      "image/png": "[encoded data removed]",
      "text/plain": [
       "<Figure size 432x288 with 1 Axes>"
      ]
     },
     "metadata": {
      "needs_background": "light"
     },
     "output_type": "display_data"
    }
   ],
   "source": [
    "import matplotlib.pyplot as plt\n",
    "\n",
    "my_df.plot(x ='matches_played', y='total_wins', kind = 'scatter', title = 'Relation between total_wins and matches_played')"
   ]
  },
  {
   "cell_type": "code",
   "execution_count": 6,
   "metadata": {},
   "outputs": [
    {
     "data": {
      "text/plain": [
       "<matplotlib.axes._subplots.AxesSubplot at 0x7fddccd1dd68>"
      ]
     },
     "execution_count": 6,
     "metadata": {},
     "output_type": "execute_result"
    },
    {
     "data": {
      "image/png": "[encoded data removed]",
      "text/plain": [
       "<Figure size 432x288 with 1 Axes>"
      ]
     },
     "metadata": {
      "needs_background": "light"
     },
     "output_type": "display_data"
    }
   ],
   "source": [
    "my_df.plot(x = 'total_wins', y = 'hs', kind = 'scatter', title = \"Relation between headshots and total number of wins\")"
   ]
  },
  {
   "cell_type": "code",
   "execution_count": 7,
   "metadata": {},
   "outputs": [
    {
     "data": {
      "text/plain": [
       "<matplotlib.axes._subplots.AxesSubplot at 0x7fddccd025f8>"
      ]
     },
     "execution_count": 7,
     "metadata": {},
     "output_type": "execute_result"
    },
    {
     "data": {
      "image/png": "[encoded data removed]",
      "text/plain": [
       "<Figure size 432x288 with 1 Axes>"
      ]
     },
     "metadata": {
      "needs_background": "light"
     },
     "output_type": "display_data"
    }
   ],
   "source": [
    "my_df.plot(x = 'matches_played', y = 'hs', kind = 'scatter', title = 'Relation between headshots and total number of matches played')"
   ]
  },
  {
   "cell_type": "markdown",
   "metadata": {},
   "source": [
    "* ## The Best players:"
   ]
  },
  {
   "cell_type": "code",
   "execution_count": 14,
   "metadata": {},
   "outputs": [
    {
     "data": {
      "text/html": [
       "<div>\n",
       "<style scoped>\n",
       "    .dataframe tbody tr th:only-of-type {\n",
       "        vertical-align: middle;\n",
       "    }\n",
       "\n",
       "    .dataframe tbody tr th {\n",
       "        vertical-align: top;\n",
       "    }\n",
       "\n",
       "    .dataframe thead th {\n",
       "        text-align: right;\n",
       "    }\n",
       "</style>\n",
       "<table border=\"1\" class=\"dataframe\">\n",
       "  <thead>\n",
       "    <tr style=\"text-align: right;\">\n",
       "      <th></th>\n",
       "      <th>player_id</th>\n",
       "      <th>matches_played</th>\n",
       "      <th>total_wins</th>\n",
       "      <th>total_loss</th>\n",
       "      <th>mm_points</th>\n",
       "      <th>kills</th>\n",
       "      <th>death</th>\n",
       "      <th>assist</th>\n",
       "      <th>hs</th>\n",
       "    </tr>\n",
       "  </thead>\n",
       "  <tbody>\n",
       "    <tr>\n",
       "      <th>0</th>\n",
       "      <td>354985</td>\n",
       "      <td>1</td>\n",
       "      <td>1</td>\n",
       "      <td>0</td>\n",
       "      <td>3</td>\n",
       "      <td>13</td>\n",
       "      <td>13</td>\n",
       "      <td>5</td>\n",
       "      <td>6</td>\n",
       "    </tr>\n",
       "    <tr>\n",
       "      <th>4</th>\n",
       "      <td>325203</td>\n",
       "      <td>1</td>\n",
       "      <td>1</td>\n",
       "      <td>0</td>\n",
       "      <td>3</td>\n",
       "      <td>21</td>\n",
       "      <td>13</td>\n",
       "      <td>2</td>\n",
       "      <td>11</td>\n",
       "    </tr>\n",
       "    <tr>\n",
       "      <th>6</th>\n",
       "      <td>35792</td>\n",
       "      <td>1</td>\n",
       "      <td>1</td>\n",
       "      <td>0</td>\n",
       "      <td>3</td>\n",
       "      <td>17</td>\n",
       "      <td>18</td>\n",
       "      <td>4</td>\n",
       "      <td>12</td>\n",
       "    </tr>\n",
       "    <tr>\n",
       "      <th>8</th>\n",
       "      <td>1129344</td>\n",
       "      <td>1</td>\n",
       "      <td>1</td>\n",
       "      <td>0</td>\n",
       "      <td>3</td>\n",
       "      <td>13</td>\n",
       "      <td>19</td>\n",
       "      <td>5</td>\n",
       "      <td>11</td>\n",
       "    </tr>\n",
       "    <tr>\n",
       "      <th>10</th>\n",
       "      <td>321178</td>\n",
       "      <td>1</td>\n",
       "      <td>1</td>\n",
       "      <td>0</td>\n",
       "      <td>3</td>\n",
       "      <td>12</td>\n",
       "      <td>23</td>\n",
       "      <td>8</td>\n",
       "      <td>9</td>\n",
       "    </tr>\n",
       "    <tr>\n",
       "      <th>...</th>\n",
       "      <td>...</td>\n",
       "      <td>...</td>\n",
       "      <td>...</td>\n",
       "      <td>...</td>\n",
       "      <td>...</td>\n",
       "      <td>...</td>\n",
       "      <td>...</td>\n",
       "      <td>...</td>\n",
       "      <td>...</td>\n",
       "    </tr>\n",
       "    <tr>\n",
       "      <th>2041</th>\n",
       "      <td>1148268</td>\n",
       "      <td>1</td>\n",
       "      <td>1</td>\n",
       "      <td>0</td>\n",
       "      <td>3</td>\n",
       "      <td>5</td>\n",
       "      <td>11</td>\n",
       "      <td>0</td>\n",
       "      <td>1</td>\n",
       "    </tr>\n",
       "    <tr>\n",
       "      <th>2043</th>\n",
       "      <td>590695</td>\n",
       "      <td>17</td>\n",
       "      <td>10</td>\n",
       "      <td>7</td>\n",
       "      <td>23</td>\n",
       "      <td>230</td>\n",
       "      <td>344</td>\n",
       "      <td>67</td>\n",
       "      <td>161</td>\n",
       "    </tr>\n",
       "    <tr>\n",
       "      <th>2049</th>\n",
       "      <td>802646</td>\n",
       "      <td>1</td>\n",
       "      <td>1</td>\n",
       "      <td>0</td>\n",
       "      <td>3</td>\n",
       "      <td>14</td>\n",
       "      <td>9</td>\n",
       "      <td>0</td>\n",
       "      <td>7</td>\n",
       "    </tr>\n",
       "    <tr>\n",
       "      <th>2053</th>\n",
       "      <td>576674</td>\n",
       "      <td>1</td>\n",
       "      <td>1</td>\n",
       "      <td>0</td>\n",
       "      <td>3</td>\n",
       "      <td>11</td>\n",
       "      <td>12</td>\n",
       "      <td>3</td>\n",
       "      <td>1</td>\n",
       "    </tr>\n",
       "    <tr>\n",
       "      <th>2055</th>\n",
       "      <td>758201</td>\n",
       "      <td>1</td>\n",
       "      <td>1</td>\n",
       "      <td>0</td>\n",
       "      <td>3</td>\n",
       "      <td>17</td>\n",
       "      <td>13</td>\n",
       "      <td>3</td>\n",
       "      <td>15</td>\n",
       "    </tr>\n",
       "  </tbody>\n",
       "</table>\n",
       "<p>874 rows × 9 columns</p>\n",
       "</div>"
      ],
      "text/plain": [
       "      player_id  matches_played  total_wins  total_loss  mm_points  kills  \\\n",
       "0        354985               1           1           0          3     13   \n",
       "4        325203               1           1           0          3     21   \n",
       "6         35792               1           1           0          3     17   \n",
       "8       1129344               1           1           0          3     13   \n",
       "10       321178               1           1           0          3     12   \n",
       "...         ...             ...         ...         ...        ...    ...   \n",
       "2041    1148268               1           1           0          3      5   \n",
       "2043     590695              17          10           7         23    230   \n",
       "2049     802646               1           1           0          3     14   \n",
       "2053     576674               1           1           0          3     11   \n",
       "2055     758201               1           1           0          3     17   \n",
       "\n",
       "      death  assist   hs  \n",
       "0        13       5    6  \n",
       "4        13       2   11  \n",
       "6        18       4   12  \n",
       "8        19       5   11  \n",
       "10       23       8    9  \n",
       "...     ...     ...  ...  \n",
       "2041     11       0    1  \n",
       "2043    344      67  161  \n",
       "2049      9       0    7  \n",
       "2053     12       3    1  \n",
       "2055     13       3   15  \n",
       "\n",
       "[874 rows x 9 columns]"
      ]
     },
     "execution_count": 14,
     "metadata": {},
     "output_type": "execute_result"
    }
   ],
   "source": [
    "#The dataframe of players whose have wins > loss\n",
    "my_df_wins = my_df.loc[my_df['total_wins'] > my_df['total_loss']]\n",
    "my_df_wins"
   ]
  },
  {
   "cell_type": "code",
   "execution_count": 15,
   "metadata": {},
   "outputs": [
    {
     "data": {
      "image/png": "[encoded data removed]",
      "text/plain": [
       "<Figure size 432x288 with 1 Axes>"
      ]
     },
     "metadata": {
      "needs_background": "light"
     },
     "output_type": "display_data"
    }
   ],
   "source": [
    "my_df_wins.plot(x = 'matches_played', \n",
    "           y = 'total_wins', \n",
    "           kind = 'scatter', \n",
    "           title = 'Relation between total_wins and total number of matches played')\n",
    "plt.savefig('images/my_df_wins_distribution.png', dpi=400)"
   ]
  },
  {
   "cell_type": "markdown",
   "metadata": {},
   "source": [
    "* ## The players whose not best yet:"
   ]
  },
  {
   "cell_type": "code",
   "execution_count": 12,
   "metadata": {},
   "outputs": [
    {
     "data": {
      "text/html": [
       "<div>\n",
       "<style scoped>\n",
       "    .dataframe tbody tr th:only-of-type {\n",
       "        vertical-align: middle;\n",
       "    }\n",
       "\n",
       "    .dataframe tbody tr th {\n",
       "        vertical-align: top;\n",
       "    }\n",
       "\n",
       "    .dataframe thead th {\n",
       "        text-align: right;\n",
       "    }\n",
       "</style>\n",
       "<table border=\"1\" class=\"dataframe\">\n",
       "  <thead>\n",
       "    <tr style=\"text-align: right;\">\n",
       "      <th></th>\n",
       "      <th>player_id</th>\n",
       "      <th>matches_played</th>\n",
       "      <th>total_wins</th>\n",
       "      <th>total_loss</th>\n",
       "      <th>mm_points</th>\n",
       "      <th>kills</th>\n",
       "      <th>death</th>\n",
       "      <th>assist</th>\n",
       "      <th>hs</th>\n",
       "    </tr>\n",
       "  </thead>\n",
       "  <tbody>\n",
       "    <tr>\n",
       "      <th>1</th>\n",
       "      <td>152268</td>\n",
       "      <td>1</td>\n",
       "      <td>0</td>\n",
       "      <td>1</td>\n",
       "      <td>-1</td>\n",
       "      <td>15</td>\n",
       "      <td>20</td>\n",
       "      <td>3</td>\n",
       "      <td>2</td>\n",
       "    </tr>\n",
       "    <tr>\n",
       "      <th>2</th>\n",
       "      <td>679247</td>\n",
       "      <td>1</td>\n",
       "      <td>0</td>\n",
       "      <td>1</td>\n",
       "      <td>-1</td>\n",
       "      <td>7</td>\n",
       "      <td>23</td>\n",
       "      <td>5</td>\n",
       "      <td>4</td>\n",
       "    </tr>\n",
       "    <tr>\n",
       "      <th>3</th>\n",
       "      <td>604607</td>\n",
       "      <td>1</td>\n",
       "      <td>0</td>\n",
       "      <td>1</td>\n",
       "      <td>-1</td>\n",
       "      <td>11</td>\n",
       "      <td>21</td>\n",
       "      <td>3</td>\n",
       "      <td>8</td>\n",
       "    </tr>\n",
       "    <tr>\n",
       "      <th>5</th>\n",
       "      <td>95479</td>\n",
       "      <td>1</td>\n",
       "      <td>0</td>\n",
       "      <td>1</td>\n",
       "      <td>-1</td>\n",
       "      <td>14</td>\n",
       "      <td>22</td>\n",
       "      <td>6</td>\n",
       "      <td>4</td>\n",
       "    </tr>\n",
       "    <tr>\n",
       "      <th>7</th>\n",
       "      <td>679130</td>\n",
       "      <td>1</td>\n",
       "      <td>0</td>\n",
       "      <td>1</td>\n",
       "      <td>-1</td>\n",
       "      <td>15</td>\n",
       "      <td>21</td>\n",
       "      <td>2</td>\n",
       "      <td>5</td>\n",
       "    </tr>\n",
       "    <tr>\n",
       "      <th>...</th>\n",
       "      <td>...</td>\n",
       "      <td>...</td>\n",
       "      <td>...</td>\n",
       "      <td>...</td>\n",
       "      <td>...</td>\n",
       "      <td>...</td>\n",
       "      <td>...</td>\n",
       "      <td>...</td>\n",
       "      <td>...</td>\n",
       "    </tr>\n",
       "    <tr>\n",
       "      <th>2050</th>\n",
       "      <td>1181434</td>\n",
       "      <td>1</td>\n",
       "      <td>0</td>\n",
       "      <td>1</td>\n",
       "      <td>-1</td>\n",
       "      <td>7</td>\n",
       "      <td>16</td>\n",
       "      <td>4</td>\n",
       "      <td>4</td>\n",
       "    </tr>\n",
       "    <tr>\n",
       "      <th>2051</th>\n",
       "      <td>168613</td>\n",
       "      <td>1</td>\n",
       "      <td>0</td>\n",
       "      <td>1</td>\n",
       "      <td>-1</td>\n",
       "      <td>10</td>\n",
       "      <td>17</td>\n",
       "      <td>2</td>\n",
       "      <td>7</td>\n",
       "    </tr>\n",
       "    <tr>\n",
       "      <th>2052</th>\n",
       "      <td>500543</td>\n",
       "      <td>2</td>\n",
       "      <td>1</td>\n",
       "      <td>1</td>\n",
       "      <td>2</td>\n",
       "      <td>23</td>\n",
       "      <td>35</td>\n",
       "      <td>7</td>\n",
       "      <td>18</td>\n",
       "    </tr>\n",
       "    <tr>\n",
       "      <th>2054</th>\n",
       "      <td>640357</td>\n",
       "      <td>8</td>\n",
       "      <td>2</td>\n",
       "      <td>6</td>\n",
       "      <td>0</td>\n",
       "      <td>77</td>\n",
       "      <td>169</td>\n",
       "      <td>37</td>\n",
       "      <td>25</td>\n",
       "    </tr>\n",
       "    <tr>\n",
       "      <th>2056</th>\n",
       "      <td>39554</td>\n",
       "      <td>10</td>\n",
       "      <td>3</td>\n",
       "      <td>7</td>\n",
       "      <td>2</td>\n",
       "      <td>116</td>\n",
       "      <td>219</td>\n",
       "      <td>41</td>\n",
       "      <td>68</td>\n",
       "    </tr>\n",
       "  </tbody>\n",
       "</table>\n",
       "<p>1183 rows × 9 columns</p>\n",
       "</div>"
      ],
      "text/plain": [
       "      player_id  matches_played  total_wins  total_loss  mm_points  kills  \\\n",
       "1        152268               1           0           1         -1     15   \n",
       "2        679247               1           0           1         -1      7   \n",
       "3        604607               1           0           1         -1     11   \n",
       "5         95479               1           0           1         -1     14   \n",
       "7        679130               1           0           1         -1     15   \n",
       "...         ...             ...         ...         ...        ...    ...   \n",
       "2050    1181434               1           0           1         -1      7   \n",
       "2051     168613               1           0           1         -1     10   \n",
       "2052     500543               2           1           1          2     23   \n",
       "2054     640357               8           2           6          0     77   \n",
       "2056      39554              10           3           7          2    116   \n",
       "\n",
       "      death  assist  hs  \n",
       "1        20       3   2  \n",
       "2        23       5   4  \n",
       "3        21       3   8  \n",
       "5        22       6   4  \n",
       "7        21       2   5  \n",
       "...     ...     ...  ..  \n",
       "2050     16       4   4  \n",
       "2051     17       2   7  \n",
       "2052     35       7  18  \n",
       "2054    169      37  25  \n",
       "2056    219      41  68  \n",
       "\n",
       "[1183 rows x 9 columns]"
      ]
     },
     "execution_count": 12,
     "metadata": {},
     "output_type": "execute_result"
    }
   ],
   "source": [
    "#The dataframe of players whose have wins <= loss\n",
    "my_df_loss = my_df.loc[my_df['total_wins'] <= my_df['total_loss']]\n",
    "my_df_loss"
   ]
  },
  {
   "cell_type": "code",
   "execution_count": 16,
   "metadata": {},
   "outputs": [
    {
     "data": {
      "image/png": "[encoded data removed]",
      "text/plain": [
       "<Figure size 432x288 with 1 Axes>"
      ]
     },
     "metadata": {
      "needs_background": "light"
     },
     "output_type": "display_data"
    }
   ],
   "source": [
    "my_df_loss.plot(x = 'matches_played', \n",
    "           y = 'total_loss', \n",
    "           kind = 'scatter', \n",
    "           title = 'Relation between total_loss and total number of matches played')\n",
    "plt.savefig('images/my_df_loss_distribution.png', dpi=400)"
   ]
  },
  {
   "cell_type": "markdown",
   "metadata": {},
   "source": [
    ">The intersting stuf here is the fact that Gamers Club has the Hard players and even the not to Hard players. It means there are opportunite to grow up in Gamers Club. "
   ]
  },
  {
   "cell_type": "markdown",
   "metadata": {},
   "source": [
    "* ### The choice of scatter plots is given because we are verifying cause and effect relationships between quantitative variables."
   ]
  },
  {
   "cell_type": "markdown",
   "metadata": {},
   "source": [
    "* # Date"
   ]
  },
  {
   "cell_type": "code",
   "execution_count": 7,
   "metadata": {},
   "outputs": [
    {
     "data": {
      "text/html": [
       "<div>\n",
       "<style scoped>\n",
       "    .dataframe tbody tr th:only-of-type {\n",
       "        vertical-align: middle;\n",
       "    }\n",
       "\n",
       "    .dataframe tbody tr th {\n",
       "        vertical-align: top;\n",
       "    }\n",
       "\n",
       "    .dataframe thead th {\n",
       "        text-align: right;\n",
       "    }\n",
       "</style>\n",
       "<table border=\"1\" class=\"dataframe\">\n",
       "  <thead>\n",
       "    <tr style=\"text-align: right;\">\n",
       "      <th></th>\n",
       "      <th>player_id</th>\n",
       "      <th>cadastrado_em</th>\n",
       "    </tr>\n",
       "  </thead>\n",
       "  <tbody>\n",
       "    <tr>\n",
       "      <th>0</th>\n",
       "      <td>354985</td>\n",
       "      <td>2017-03-22 23:26:45</td>\n",
       "    </tr>\n",
       "    <tr>\n",
       "      <th>1</th>\n",
       "      <td>152268</td>\n",
       "      <td>2016-08-17 00:53:55</td>\n",
       "    </tr>\n",
       "    <tr>\n",
       "      <th>2</th>\n",
       "      <td>679247</td>\n",
       "      <td>2018-02-28 23:27:44</td>\n",
       "    </tr>\n",
       "    <tr>\n",
       "      <th>3</th>\n",
       "      <td>604607</td>\n",
       "      <td>2018-01-10 23:17:56</td>\n",
       "    </tr>\n",
       "    <tr>\n",
       "      <th>4</th>\n",
       "      <td>325203</td>\n",
       "      <td>2017-02-22 13:04:37</td>\n",
       "    </tr>\n",
       "    <tr>\n",
       "      <th>...</th>\n",
       "      <td>...</td>\n",
       "      <td>...</td>\n",
       "    </tr>\n",
       "    <tr>\n",
       "      <th>3640</th>\n",
       "      <td>999349</td>\n",
       "      <td>2019-03-08 18:46:37</td>\n",
       "    </tr>\n",
       "    <tr>\n",
       "      <th>3641</th>\n",
       "      <td>96913</td>\n",
       "      <td>2016-04-29 23:20:49</td>\n",
       "    </tr>\n",
       "    <tr>\n",
       "      <th>3642</th>\n",
       "      <td>351388</td>\n",
       "      <td>2017-03-19 00:11:58</td>\n",
       "    </tr>\n",
       "    <tr>\n",
       "      <th>3643</th>\n",
       "      <td>982190</td>\n",
       "      <td>2019-02-21 17:27:36</td>\n",
       "    </tr>\n",
       "    <tr>\n",
       "      <th>3644</th>\n",
       "      <td>47133</td>\n",
       "      <td>2016-01-08 16:31:15</td>\n",
       "    </tr>\n",
       "  </tbody>\n",
       "</table>\n",
       "<p>3645 rows × 2 columns</p>\n",
       "</div>"
      ],
      "text/plain": [
       "      player_id        cadastrado_em\n",
       "0        354985  2017-03-22 23:26:45\n",
       "1        152268  2016-08-17 00:53:55\n",
       "2        679247  2018-02-28 23:27:44\n",
       "3        604607  2018-01-10 23:17:56\n",
       "4        325203  2017-02-22 13:04:37\n",
       "...         ...                  ...\n",
       "3640     999349  2019-03-08 18:46:37\n",
       "3641      96913  2016-04-29 23:20:49\n",
       "3642     351388  2017-03-19 00:11:58\n",
       "3643     982190  2019-02-21 17:27:36\n",
       "3644      47133  2016-01-08 16:31:15\n",
       "\n",
       "[3645 rows x 2 columns]"
      ]
     },
     "execution_count": 7,
     "metadata": {},
     "output_type": "execute_result"
    }
   ],
   "source": [
    "players = pd.read_csv('csv/players.csv')\n",
    "players"
   ]
  },
  {
   "cell_type": "code",
   "execution_count": 8,
   "metadata": {},
   "outputs": [],
   "source": [
    "#Creating a dictionary of year: number of create accounts\n",
    "dicionario = {\n",
    "    2013 : 0,\n",
    "    2014 : 0,\n",
    "    2015 : 0,\n",
    "    2016 : 0,\n",
    "    2017 : 0,\n",
    "    2018 : 0,\n",
    "    2019 : 0,\n",
    "    2020 : 0,\n",
    "}\n",
    "for index, row in players.iterrows():\n",
    "        if int(row['cadastrado_em'][0:4]) in dicionario.keys():\n",
    "            n = int(row['cadastrado_em'][0:4])\n",
    "            dicionario[n] += 1\n",
    "        pass\n"
   ]
  },
  {
   "cell_type": "code",
   "execution_count": 9,
   "metadata": {},
   "outputs": [
    {
     "name": "stdout",
     "output_type": "stream",
     "text": [
      "{2013: 12, 2014: 21, 2015: 201, 2016: 682, 2017: 816, 2018: 925, 2019: 891, 2020: 97}\n",
      "3645\n"
     ]
    }
   ],
   "source": [
    "#This way I get a dictionary{year_date: number_of_created_accounts} \n",
    "print(dicionario) \n",
    "print(sum(dicionario.values()))"
   ]
  },
  {
   "cell_type": "code",
   "execution_count": 33,
   "metadata": {},
   "outputs": [
    {
     "data": {
      "image/png": "[encoded data removed]",
      "text/plain": [
       "<Figure size 432x288 with 1 Axes>"
      ]
     },
     "metadata": {
      "needs_background": "light"
     },
     "output_type": "display_data"
    }
   ],
   "source": [
    "plt.bar(*zip(*dicionario.items()))\n",
    "plt.title('The ratio of the number of accounts created per year.')\n",
    "plt.xlabel('Year')\n",
    "plt.ylabel('Number of accounts')\n",
    "plt.savefig('images/accountbydate.png', dpi=400)\n",
    "plt.show()"
   ]
  },
  {
   "cell_type": "markdown",
   "metadata": {},
   "source": [
    ">Analysing the above image we can see the number of account growth. We need to remeber that the source used to build this chart have values only until the date of 2020-02-06, that is the main reason of the number of account of 2020 is smaller than the neighborhood. "
   ]
  },
  {
   "cell_type": "code",
   "execution_count": 20,
   "metadata": {},
   "outputs": [],
   "source": [
    "dicionario_mes = {\n",
    "    1 : 0,\n",
    "    2 : 0,\n",
    "    3 : 0,\n",
    "    4 : 0,\n",
    "    5 : 0,\n",
    "    6 : 0,\n",
    "    7 : 0,\n",
    "    8 : 0,\n",
    "    9 : 0,\n",
    "    10 : 0,\n",
    "    11 : 0,\n",
    "    12 : 0\n",
    "}\n",
    "for index, row in players.iterrows():\n",
    "        if int(row['cadastrado_em'][5:7]) in dicionario_mes.keys():\n",
    "            n = int(row['cadastrado_em'][5:7])\n",
    "            dicionario_mes[n] += 1\n",
    "        pass"
   ]
  },
  {
   "cell_type": "code",
   "execution_count": 25,
   "metadata": {},
   "outputs": [
    {
     "name": "stdout",
     "output_type": "stream",
     "text": [
      "{1: 481, 2: 329, 3: 297, 4: 279, 5: 228, 6: 245, 7: 264, 8: 310, 9: 246, 10: 267, 11: 303, 12: 396}\n",
      "3645\n"
     ]
    }
   ],
   "source": [
    "print(dicionario_mes)\n",
    "print(sum(dicionario_mes.values()))"
   ]
  },
  {
   "cell_type": "code",
   "execution_count": 32,
   "metadata": {},
   "outputs": [
    {
     "data": {
      "image/png": "[encoded data removed]",
      "text/plain": [
       "<Figure size 432x288 with 1 Axes>"
      ]
     },
     "metadata": {
      "needs_background": "light"
     },
     "output_type": "display_data"
    }
   ],
   "source": [
    "plt.bar(*zip(*dicionario_mes.items()))\n",
    "plt.title('The ratio of the number of accounts created per Month.')\n",
    "plt.xlabel('Month')\n",
    "plt.ylabel('Number of accounts')\n",
    "plt.savefig('images/accountbymonth', dpi=400, format=\"png\")\n",
    "plt.show()"
   ]
  },
  {
   "cell_type": "markdown",
   "metadata": {},
   "source": [
    ">Analysing the above image we can see what is the month when more accounts has been created. "
   ]
  },
  {
   "cell_type": "markdown",
   "metadata": {},
   "source": [
    "* __The choice of bar plots is given because we are handling discrete variables, therefore the choice of a discrete plot is the best choice to represent the relation above.__"
   ]
  }
 ],
 "metadata": {
  "kernelspec": {
   "display_name": "Python 3",
   "language": "python",
   "name": "python3"
  },
  "language_info": {
   "codemirror_mode": {
    "name": "ipython",
    "version": 3
   },
   "file_extension": ".py",
   "mimetype": "text/x-python",
   "name": "python",
   "nbconvert_exporter": "python",
   "pygments_lexer": "ipython3",
   "version": "3.7.0"
  }
 },
 "nbformat": 4,
 "nbformat_minor": 4
}
