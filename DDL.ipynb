{
 "cells": [
  {
   "cell_type": "markdown",
   "metadata": {},
   "source": [
    "# With this notebook I create the tables from the MYSQL database to use in this test"
   ]
  },
  {
   "cell_type": "markdown",
   "metadata": {},
   "source": [
    "* ## Connect to remote database \n",
    ">#### Using dotenv to handle the env variables."
   ]
  },
  {
   "cell_type": "code",
   "execution_count": 5,
   "metadata": {},
   "outputs": [],
   "source": [
    "import os\n",
    "import pymysql\n",
    "from dotenv import load_dotenv\n",
    "load_dotenv()\n",
    "\n",
    "HOST = os.getenv('HOST')\n",
    "USER = os.getenv('MYSQL_USER')\n",
    "PASSWORD = os.getenv('MYSQL_ROOT_PASSWORD')\n",
    "DB = os.getenv('MYSQL_DATABASE')\n",
    "\n",
    "connection = pymysql.connect(host=HOST, \n",
    "                      user = USER,\n",
    "                     password = PASSWORD,\n",
    "                     db = DB)\n",
    "\n",
    "cursor = connection.cursor()"
   ]
  },
  {
   "cell_type": "code",
   "execution_count": 8,
   "metadata": {},
   "outputs": [
    {
     "data": {
      "text/plain": [
       "0"
      ]
     },
     "execution_count": 8,
     "metadata": {},
     "output_type": "execute_result"
    }
   ],
   "source": [
    "cursor.execute(\"CREATE TABLE IF NOT EXISTS player_monthly_stats (id INT AUTO_INCREMENT PRIMARY KEY, game_mode VARCHAR(35) NOT NULL, player_id INT DEFAULT 0 NOT NULL, ref_date DATE NOT NULL, total_playerd INT DEFAULT 0 NOT NULL, kills INT DEFAULT 0 NOT NULL, assists INT DEFAULT 0 NOT NULL, deaths INT DEFAULT 0 NOT NULL, wins INT DEFAULT 0 NOT NULL, loss INT DEFAULT 0 NOT NULL, headshots INT DEFAULT 0 NOT NULL, CONSTRAINT unique_index unique (player_id, ref_date, game_mode));\")\n"
   ]
  }
 ],
 "metadata": {
  "kernelspec": {
   "display_name": "Python 3",
   "language": "python",
   "name": "python3"
  },
  "language_info": {
   "codemirror_mode": {
    "name": "ipython",
    "version": 3
   },
   "file_extension": ".py",
   "mimetype": "text/x-python",
   "name": "python",
   "nbconvert_exporter": "python",
   "pygments_lexer": "ipython3",
   "version": "3.7.0"
  }
 },
 "nbformat": 4,
 "nbformat_minor": 4
}
