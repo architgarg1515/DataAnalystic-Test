{
 "cells": [
  {
   "cell_type": "markdown",
   "metadata": {},
   "source": [
    "# With this notebook I create the tables from the MYSQL database to use in this test"
   ]
  },
  {
   "cell_type": "markdown",
   "metadata": {},
   "source": [
    "* ## Connect to remote database \n",
    ">#### Using dotenv to handle the env variables."
   ]
  },
  {
   "cell_type": "code",
   "execution_count": 18,
   "metadata": {},
   "outputs": [],
   "source": [
    "import os\n",
    "import pymysql\n",
    "from dotenv import load_dotenv\n",
    "load_dotenv()\n",
    "\n",
    "HOST = os.getenv('HOST')\n",
    "USER = os.getenv('MYSQL_USER')\n",
    "PASSWORD = os.getenv('MYSQL_ROOT_PASSWORD')\n",
    "DB = os.getenv('MYSQL_DATABASE')\n",
    "\n",
    "connection = pymysql.connect(host=HOST, \n",
    "                      user = USER,\n",
    "                     password = PASSWORD,\n",
    "                     db = DB)\n",
    "\n",
    "cursor = connection.cursor()"
   ]
  },
  {
   "cell_type": "code",
   "execution_count": 8,
   "metadata": {},
   "outputs": [
    {
     "data": {
      "text/plain": [
       "0"
      ]
     },
     "execution_count": 8,
     "metadata": {},
     "output_type": "execute_result"
    }
   ],
   "source": [
    "#Creating the main table\n",
    "cursor.execute(\"CREATE TABLE IF NOT EXISTS player_monthly_stats (id INT AUTO_INCREMENT PRIMARY KEY, game_mode VARCHAR(35) NOT NULL, player_id INT DEFAULT 0 NOT NULL, ref_date DATE NOT NULL, total_playerd INT DEFAULT 0 NOT NULL, kills INT DEFAULT 0 NOT NULL, assists INT DEFAULT 0 NOT NULL, deaths INT DEFAULT 0 NOT NULL, wins INT DEFAULT 0 NOT NULL, loss INT DEFAULT 0 NOT NULL, headshots INT DEFAULT 0 NOT NULL, CONSTRAINT unique_index unique (player_id, ref_date, game_mode));\")\n"
   ]
  },
  {
   "cell_type": "code",
   "execution_count": 9,
   "metadata": {},
   "outputs": [
    {
     "data": {
      "text/plain": [
       "0"
      ]
     },
     "execution_count": 9,
     "metadata": {},
     "output_type": "execute_result"
    }
   ],
   "source": [
    "#Creating the player_id index\n",
    "cursor.execute(\"CREATE index player_monthly_stats_player_id ON player_monthly_stats (player_id);\")"
   ]
  },
  {
   "cell_type": "code",
   "execution_count": 10,
   "metadata": {},
   "outputs": [
    {
     "data": {
      "text/plain": [
       "0"
      ]
     },
     "execution_count": 10,
     "metadata": {},
     "output_type": "execute_result"
    }
   ],
   "source": [
    "#Creating the ref_date index\n",
    "cursor.execute(\"CREATE index player_monthly_stats_ref_date ON player_monthly_stats (ref_date);\")"
   ]
  },
  {
   "cell_type": "code",
   "execution_count": 11,
   "metadata": {},
   "outputs": [
    {
     "data": {
      "text/plain": [
       "0"
      ]
     },
     "execution_count": 11,
     "metadata": {},
     "output_type": "execute_result"
    }
   ],
   "source": [
    "#Creating the player_id, ref_date, game_mode index\n",
    "cursor.execute(\"CREATE index player_monthly_stats_searchable ON player_monthly_stats (player_id, ref_date, game_mode);\")"
   ]
  },
  {
   "cell_type": "code",
   "execution_count": 16,
   "metadata": {},
   "outputs": [
    {
     "data": {
      "text/plain": [
       "0"
      ]
     },
     "execution_count": 16,
     "metadata": {},
     "output_type": "execute_result"
    }
   ],
   "source": [
    "#Creating matchmaking_stats_summary table\n",
    "cursor.execute(\"CREATE TABLE IF NOT EXISTS matchmaking_stats_summary( id int UNSIGNED AUTO_INCREMENT PRIMARY KEY, player_id  INT NULL, matches_played INT NULL, total_wins SMALLINT(5) NULL, total_loss smallint(5) NULL, mm_points INT NOT NULL, assist INT NULL, death INT NULL, hs INT NULL, kills INT(25) DEFAULT 0 NULL, is_mm TINYINT(1) DEFAULT 0 NULL, created_at TIMESTAMP DEFAULT CURRENT_TIMESTAMP NOT NULL, updated_at TIMESTAMP NULL);\")"
   ]
  },
  {
   "cell_type": "code",
   "execution_count": 19,
   "metadata": {},
   "outputs": [
    {
     "data": {
      "text/plain": [
       "0"
      ]
     },
     "execution_count": 19,
     "metadata": {},
     "output_type": "execute_result"
    }
   ],
   "source": [
    "#Creating the created_at index\n",
    "cursor.execute(\"CREATE index created_at ON matchmaking_stats_summary (created_at);\")"
   ]
  },
  {
   "cell_type": "code",
   "execution_count": 20,
   "metadata": {},
   "outputs": [
    {
     "data": {
      "text/plain": [
       "0"
      ]
     },
     "execution_count": 20,
     "metadata": {},
     "output_type": "execute_result"
    }
   ],
   "source": [
    "#Creating the player_id index\n",
    "cursor.execute(\"CREATE index idplayer ON matchmaking_stats_summary (player_id);\")"
   ]
  },
  {
   "cell_type": "code",
   "execution_count": 21,
   "metadata": {},
   "outputs": [
    {
     "data": {
      "text/plain": [
       "0"
      ]
     },
     "execution_count": 21,
     "metadata": {},
     "output_type": "execute_result"
    }
   ],
   "source": [
    "#Creating the player_id index\n",
    "cursor.execute(\"CREATE index is_mm ON matchmaking_stats_summary (is_mm);\")"
   ]
  },
  {
   "cell_type": "code",
   "execution_count": 22,
   "metadata": {},
   "outputs": [
    {
     "data": {
      "text/plain": [
       "0"
      ]
     },
     "execution_count": 22,
     "metadata": {},
     "output_type": "execute_result"
    }
   ],
   "source": [
    "#Creating the mm_points index\n",
    "cursor.execute(\"CREATE index mm_points ON matchmaking_stats_summary (mm_points);\")"
   ]
  },
  {
   "cell_type": "code",
   "execution_count": 23,
   "metadata": {},
   "outputs": [
    {
     "data": {
      "text/plain": [
       "0"
      ]
     },
     "execution_count": 23,
     "metadata": {},
     "output_type": "execute_result"
    }
   ],
   "source": [
    "#Creating table players\n",
    "cursor.execute(\"CREATE TABLE IF NOT EXISTS players(player_id INT NULL, cadastrado_em TIMESTAMP NULL);\")"
   ]
  }
 ],
 "metadata": {
  "kernelspec": {
   "display_name": "Python 3",
   "language": "python",
   "name": "python3"
  },
  "language_info": {
   "codemirror_mode": {
    "name": "ipython",
    "version": 3
   },
   "file_extension": ".py",
   "mimetype": "text/x-python",
   "name": "python",
   "nbconvert_exporter": "python",
   "pygments_lexer": "ipython3",
   "version": "3.7.0"
  }
 },
 "nbformat": 4,
 "nbformat_minor": 4
}
