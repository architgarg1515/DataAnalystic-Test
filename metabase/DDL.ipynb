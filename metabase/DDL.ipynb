{
 "cells": [
  {
   "cell_type": "markdown",
   "metadata": {},
   "source": [
    "# With this notebook I create the tables from the MYSQL database to use in this test"
   ]
  },
  {
   "cell_type": "markdown",
   "metadata": {},
   "source": [
    "* ## Connect to local database "
   ]
  },
  {
   "cell_type": "code",
   "execution_count": 3,
   "metadata": {},
   "outputs": [],
   "source": [
    "import sqlite3\n",
    "\n",
    "connection = sqlite3.connect('GamersClub.db')\n",
    "cursor = connection.cursor()"
   ]
  },
  {
   "cell_type": "markdown",
   "metadata": {},
   "source": [
    "* ## Creating the tables and every actions contained in ddl.sql"
   ]
  },
  {
   "cell_type": "code",
   "execution_count": 4,
   "metadata": {},
   "outputs": [],
   "source": [
    "#Creating the monthly table\n",
    "cursor.execute(\"CREATE TABLE IF NOT EXISTS player_monthly_stats \\\n",
    "                (id INT AUTO_INCREMENT PRIMARY KEY, game_mode VARCHAR(35) NOT NULL,\\\n",
    "                player_id INT DEFAULT 0 NOT NULL, ref_date DATE NOT NULL, total_played INT DEFAULT 0 NOT NULL,\\\n",
    "                kills INT DEFAULT 0 NOT NULL, deaths INT DEFAULT 0 NOT NULL, assists INT DEFAULT 0 NOT NULL,\\\n",
    "                wins INT DEFAULT 0 NOT NULL, loss INT DEFAULT 0 NOT NULL, headshots INT DEFAULT 0 NOT NULL, \\\n",
    "                CONSTRAINT unique_index unique (player_id, ref_date, game_mode));\")\n",
    "connection.commit()"
   ]
  },
  {
   "cell_type": "code",
   "execution_count": 7,
   "metadata": {},
   "outputs": [],
   "source": [
    "#Creating the player_id index\n",
    "cursor.execute(\"CREATE index player_monthly_stats_player_id ON player_monthly_stats (player_id);\")\n",
    "connection.commit()"
   ]
  },
  {
   "cell_type": "code",
   "execution_count": 8,
   "metadata": {},
   "outputs": [],
   "source": [
    "#Creating the ref_date index\n",
    "cursor.execute(\"CREATE index player_monthly_stats_ref_date ON player_monthly_stats (ref_date);\")\n",
    "connection.commit()"
   ]
  },
  {
   "cell_type": "code",
   "execution_count": 9,
   "metadata": {},
   "outputs": [],
   "source": [
    "#Creating the player_id, ref_date, game_mode index\n",
    "cursor.execute(\"CREATE index player_monthly_stats_searchable ON player_monthly_stats \\\n",
    "                (player_id, ref_date, game_mode);\")\n",
    "connection.commit()"
   ]
  },
  {
   "cell_type": "code",
   "execution_count": 10,
   "metadata": {},
   "outputs": [],
   "source": [
    "#Creating matchmaking_stats_summary table\n",
    "cursor.execute(\"CREATE TABLE IF NOT EXISTS matchmaking_stats_summary( id int UNSIGNED AUTO_INCREMENT PRIMARY KEY,\\\n",
    "                player_id  INT NULL, \\\n",
    "                matches_played INT NULL, \\\n",
    "                total_wins SMALLINT(5) NULL, \\\n",
    "                total_loss smallint(5) NULL, \\\n",
    "                mm_points INT NOT NULL, \\\n",
    "                assist INT NULL, \\\n",
    "                death INT NULL, \\\n",
    "                hs INT NULL, \\\n",
    "                kills INT(25) DEFAULT 0 NULL, \\\n",
    "                is_mm TINYINT(1) DEFAULT 0 NULL, \\\n",
    "                created_at TIMESTAMP DEFAULT CURRENT_TIMESTAMP NOT NULL, \\\n",
    "                updated_at TIMESTAMP NULL);\")\n",
    "connection.commit()"
   ]
  },
  {
   "cell_type": "code",
   "execution_count": 11,
   "metadata": {},
   "outputs": [],
   "source": [
    "#Creating the created_at index\n",
    "cursor.execute(\"CREATE index created_at ON matchmaking_stats_summary (created_at);\")\n",
    "connection.commit()"
   ]
  },
  {
   "cell_type": "code",
   "execution_count": 12,
   "metadata": {},
   "outputs": [],
   "source": [
    "#Creating the player_id index\n",
    "cursor.execute(\"CREATE index idplayer ON matchmaking_stats_summary (player_id);\")\n",
    "connection.commit()"
   ]
  },
  {
   "cell_type": "code",
   "execution_count": 13,
   "metadata": {},
   "outputs": [
    {
     "data": {
      "text/plain": [
       "<sqlite3.Cursor at 0x7fdf049d9f80>"
      ]
     },
     "execution_count": 13,
     "metadata": {},
     "output_type": "execute_result"
    }
   ],
   "source": [
    "#Creating the player_id index\n",
    "cursor.execute(\"CREATE index is_mm ON matchmaking_stats_summary (is_mm);\")\n",
    "connection.commit()"
   ]
  },
  {
   "cell_type": "code",
   "execution_count": 18,
   "metadata": {},
   "outputs": [],
   "source": [
    "#Creating the mm_points index\n",
    "cursor.execute(\"CREATE index mm_points ON matchmaking_stats_summary (mm_points);\")\n",
    "connection.commit()"
   ]
  },
  {
   "cell_type": "code",
   "execution_count": 16,
   "metadata": {},
   "outputs": [],
   "source": [
    "#Creating table players\n",
    "cursor.execute(\"CREATE TABLE IF NOT EXISTS players(player_id INT NULL, cadastrado_em TIMESTAMP NULL);\")\n",
    "connection.commit()"
   ]
  }
 ],
 "metadata": {
  "kernelspec": {
   "display_name": "Python 3",
   "language": "python",
   "name": "python3"
  },
  "language_info": {
   "codemirror_mode": {
    "name": "ipython",
    "version": 3
   },
   "file_extension": ".py",
   "mimetype": "text/x-python",
   "name": "python",
   "nbconvert_exporter": "python",
   "pygments_lexer": "ipython3",
   "version": "3.7.0"
  }
 },
 "nbformat": 4,
 "nbformat_minor": 4
}
