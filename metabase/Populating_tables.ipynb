{
 "cells": [
  {
   "cell_type": "code",
   "execution_count": 5,
   "metadata": {},
   "outputs": [],
   "source": [
    "import sqlite3\n",
    "\n",
    "connection = sqlite3.connect('GamersClub.db')\n",
    "cursor = connection.cursor()"
   ]
  },
  {
   "cell_type": "markdown",
   "metadata": {},
   "source": [
    "* __Players__"
   ]
  },
  {
   "cell_type": "code",
   "execution_count": 6,
   "metadata": {},
   "outputs": [
    {
     "name": "stdout",
     "output_type": "stream",
     "text": [
      "Values have been inserted!\n"
     ]
    }
   ],
   "source": [
    "with open('sql/players.sql') as players:\n",
    "    try:\n",
    "        cursor.execute(players.read())\n",
    "        connection.commit()\n",
    "        print('Values have been inserted!')\n",
    "    except:\n",
    "        print(\"An exception occurred\")"
   ]
  },
  {
   "cell_type": "markdown",
   "metadata": {},
   "source": [
    "* __monthly_stats__"
   ]
  },
  {
   "cell_type": "code",
   "execution_count": 7,
   "metadata": {},
   "outputs": [
    {
     "name": "stdout",
     "output_type": "stream",
     "text": [
      "Values have been inserted!\n"
     ]
    }
   ],
   "source": [
    "with open('sql/monthly_stats.sql') as monthly_stats:\n",
    "    try:\n",
    "        cursor.execute(monthly_stats.read())\n",
    "        connection.commit()\n",
    "        print('Values have been inserted!')\n",
    "    except:\n",
    "        print(\"An exception occurred\")"
   ]
  },
  {
   "cell_type": "markdown",
   "metadata": {},
   "source": [
    "* __matchmaking_stats__"
   ]
  },
  {
   "cell_type": "code",
   "execution_count": 8,
   "metadata": {},
   "outputs": [
    {
     "name": "stdout",
     "output_type": "stream",
     "text": [
      "Values have been inserted!\n"
     ]
    }
   ],
   "source": [
    "with open('sql/matchmaking_stats.sql') as matchmaking_sql:\n",
    "    try:\n",
    "        cursor.execute(matchmaking_sql.read())\n",
    "        connection.commit()\n",
    "        print('Values have been inserted!')\n",
    "    except:\n",
    "        print(\"An exception occurred\")"
   ]
  }
 ],
 "metadata": {
  "kernelspec": {
   "display_name": "Python 3",
   "language": "python",
   "name": "python3"
  },
  "language_info": {
   "codemirror_mode": {
    "name": "ipython",
    "version": 3
   },
   "file_extension": ".py",
   "mimetype": "text/x-python",
   "name": "python",
   "nbconvert_exporter": "python",
   "pygments_lexer": "ipython3",
   "version": "3.7.0"
  }
 },
 "nbformat": 4,
 "nbformat_minor": 4
}
