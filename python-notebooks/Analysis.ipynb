{
 "cells": [
  {
   "cell_type": "code",
   "execution_count": 3,
   "metadata": {},
   "outputs": [],
   "source": [
    "import os\n",
    "import pymysql\n",
    "import dotenv\n",
    "from dotenv import load_dotenv\n",
    "load_dotenv()\n",
    "\n",
    "HOST = os.getenv('HOST')\n",
    "USER = os.getenv('MYSQL_USER')\n",
    "PASSWORD = os.getenv('MYSQL_ROOT_PASSWORD')\n",
    "DB = os.getenv('MYSQL_DATABASE')\n",
    "\n",
    "connection = pymysql.connect(host=HOST, \n",
    "                      user = USER,\n",
    "                     password = PASSWORD,\n",
    "                     db = DB)\n",
    "\n",
    "cursor = connection.cursor()"
   ]
  },
  {
   "cell_type": "markdown",
   "metadata": {},
   "source": [
    "* __Quantos usuários únicos não jogaram após o dia 03/02/2020?__\n",
    "> A análise de jogos por usuário será feita a partir de updated_at (última atualização do registro), na tabela matchmaking_stats_summary\n",
    "\n",
    ">OBS: updated_at e created_at possuem sempre a mesma data neste banco de dados\n",
    ">Como o número de usuários que jogaram é diferente do número de usuários distintos, sei que um mesmo usuário jogou várias partidas."
   ]
  },
  {
   "cell_type": "code",
   "execution_count": 2,
   "metadata": {},
   "outputs": [
    {
     "data": {
      "text/plain": [
       "(2057, 2030)"
      ]
     },
     "execution_count": 2,
     "metadata": {},
     "output_type": "execute_result"
    }
   ],
   "source": [
    "#Retrieving the total user number:\n",
    "total_registros = cursor.execute(\"SELECT player_id FROM matchmaking_stats_summary\")\n",
    "total = cursor.execute(\"SELECT DISTINCT player_id FROM matchmaking_stats_summary\")\n",
    "(total_registros, total)\n",
    "#27 usuers has played more than one single date "
   ]
  },
  {
   "cell_type": "code",
   "execution_count": 3,
   "metadata": {},
   "outputs": [
    {
     "data": {
      "text/plain": [
       "1304"
      ]
     },
     "execution_count": 3,
     "metadata": {},
     "output_type": "execute_result"
    }
   ],
   "source": [
    "#\"%Y/%m/%d\"\n",
    "#Retrieving the number of players who played after this date 03/02/2020\n",
    "strong_players = cursor.execute(\"SELECT DISTINCT player_id FROM matchmaking_stats_summary WHERE updated_at >= '2020-02-03'\")\n",
    "strong_players"
   ]
  },
  {
   "cell_type": "code",
   "execution_count": 5,
   "metadata": {},
   "outputs": [
    {
     "data": {
      "text/plain": [
       "726"
      ]
     },
     "execution_count": 5,
     "metadata": {},
     "output_type": "execute_result"
    }
   ],
   "source": [
    "#Retrieving the number of player who haven't played\n",
    "weak_players = total - strong_players\n",
    "weak_players"
   ]
  },
  {
   "cell_type": "markdown",
   "metadata": {},
   "source": [
    "* __Quantos usuários únicos jogaram em fevereiro após o dia 06/02/2020?__\n",
    "> Usando o mesmo raciocínio do exercício anterior "
   ]
  },
  {
   "cell_type": "code",
   "execution_count": 8,
   "metadata": {},
   "outputs": [
    {
     "data": {
      "text/plain": [
       "2030"
      ]
     },
     "execution_count": 8,
     "metadata": {},
     "output_type": "execute_result"
    }
   ],
   "source": [
    "#Retrieving the total user number:\n",
    "total = cursor.execute(\"SELECT distinct player_id FROM matchmaking_stats_summary\")\n",
    "total"
   ]
  },
  {
   "cell_type": "code",
   "execution_count": 12,
   "metadata": {},
   "outputs": [
    {
     "data": {
      "text/plain": [
       "0"
      ]
     },
     "execution_count": 12,
     "metadata": {},
     "output_type": "execute_result"
    }
   ],
   "source": [
    "#Retrieving the number of users who played after the date \n",
    "faithful_players = cursor.execute(\"SELECT DISTINCT player_id FROM matchmaking_stats_summary WHERE updated_at > '2020-02-06 23:59:59'\")\n",
    "faithful_players"
   ]
  },
  {
   "cell_type": "code",
   "execution_count": 14,
   "metadata": {},
   "outputs": [
    {
     "data": {
      "text/plain": [
       "0"
      ]
     },
     "execution_count": 14,
     "metadata": {},
     "output_type": "execute_result"
    }
   ],
   "source": [
    "#or\n",
    "faithful_players = cursor.execute(\"SELECT DISTINCT player_id FROM matchmaking_stats_summary WHERE updated_at >= '2020-02-07'\")\n",
    "faithful_players"
   ]
  },
  {
   "cell_type": "markdown",
   "metadata": {},
   "source": [
    "* __Em qual dia mais jogadores deixaram de jogar no mês de fevereiro?__\n",
    ">No caso, vou usar a mesma tabela, e fazer as operações passo a passo:"
   ]
  },
  {
   "cell_type": "code",
   "execution_count": 16,
   "metadata": {},
   "outputs": [
    {
     "data": {
      "text/plain": [
       "2030"
      ]
     },
     "execution_count": 16,
     "metadata": {},
     "output_type": "execute_result"
    }
   ],
   "source": [
    "#Retrieving the number of active players during the month of February (players who updated their stats)\n",
    "feb_players = cursor.execute(\"SELECT DISTINCT player_id FROM matchmaking_stats_summary WHERE updated_at BETWEEN '2020-02-01 00:00:00' AND '2020-02-29 23:59:59'\")\n",
    "feb_players\n",
    "#every player have done some update in their stats during this month"
   ]
  },
  {
   "cell_type": "markdown",
   "metadata": {},
   "source": [
    "* __Checking by day:__"
   ]
  },
  {
   "cell_type": "code",
   "execution_count": 19,
   "metadata": {},
   "outputs": [
    {
     "data": {
      "text/plain": [
       "326"
      ]
     },
     "execution_count": 19,
     "metadata": {},
     "output_type": "execute_result"
    }
   ],
   "source": [
    "day1 = cursor.execute(\"SELECT DISTINCT player_id FROM matchmaking_stats_summary WHERE updated_at BETWEEN '2020-02-01 00:00:00' AND '2020-02-01 23:59:59'\")\n",
    "day1"
   ]
  },
  {
   "cell_type": "code",
   "execution_count": 20,
   "metadata": {},
   "outputs": [
    {
     "data": {
      "text/plain": [
       "408"
      ]
     },
     "execution_count": 20,
     "metadata": {},
     "output_type": "execute_result"
    }
   ],
   "source": [
    "day2 = cursor.execute(\"SELECT DISTINCT player_id FROM matchmaking_stats_summary WHERE updated_at BETWEEN '2020-02-02 00:00:00' AND '2020-02-02 23:59:59'\")\n",
    "day2"
   ]
  },
  {
   "cell_type": "code",
   "execution_count": 21,
   "metadata": {},
   "outputs": [
    {
     "data": {
      "text/plain": [
       "313"
      ]
     },
     "execution_count": 21,
     "metadata": {},
     "output_type": "execute_result"
    }
   ],
   "source": [
    "day3 = cursor.execute(\"SELECT DISTINCT player_id FROM matchmaking_stats_summary WHERE updated_at BETWEEN '2020-02-03 00:00:00' and '2020-02-03 23:59:59'\")\n",
    "day3"
   ]
  },
  {
   "cell_type": "code",
   "execution_count": 22,
   "metadata": {},
   "outputs": [
    {
     "data": {
      "text/plain": [
       "330"
      ]
     },
     "execution_count": 22,
     "metadata": {},
     "output_type": "execute_result"
    }
   ],
   "source": [
    "day4 = cursor.execute(\"SELECT DISTINCT player_id FROM matchmaking_stats_summary WHERE updated_at BETWEEN '2020-02-04 00:00:00' and '2020-02-04 23:59:59'\")\n",
    "day4"
   ]
  },
  {
   "cell_type": "code",
   "execution_count": 23,
   "metadata": {},
   "outputs": [
    {
     "data": {
      "text/plain": [
       "338"
      ]
     },
     "execution_count": 23,
     "metadata": {},
     "output_type": "execute_result"
    }
   ],
   "source": [
    "dia5 = cursor.execute(\"SELECT DISTINCT player_id FROM matchmaking_stats_summary WHERE updated_at BETWEEN '2020-02-05 00:00:00' and '2020-02-05 23:59:59'\")\n",
    "dia5"
   ]
  },
  {
   "cell_type": "code",
   "execution_count": 24,
   "metadata": {},
   "outputs": [
    {
     "data": {
      "text/plain": [
       "330"
      ]
     },
     "execution_count": 24,
     "metadata": {},
     "output_type": "execute_result"
    }
   ],
   "source": [
    "dia6 = cursor.execute(\"SELECT DISTINCT player_id FROM matchmaking_stats_summary WHERE updated_at BETWEEN '2020-02-06 00:00:00' and '2020-02-06 23:59:59'\")\n",
    "dia6"
   ]
  },
  {
   "cell_type": "markdown",
   "metadata": {},
   "source": [
    " >## In the above case we can see that all players have played in February. We can notice that 03/02/2020 was the day where less players have played. \n",
    ">## We must be careful looking these numbers, because the variables dayN refers to the number of active single players in that day, but in this analyse we can't say who are the players. Thus, the sum of number of players of variables dayN are going to be higher than the feb_players variable (number of total single player in the February mounth). \n",
    ">## We can take a look in the intersection between these variables:"
   ]
  },
  {
   "cell_type": "code",
   "execution_count": 4,
   "metadata": {},
   "outputs": [],
   "source": [
    "cursor.execute(\"SELECT DISTINCT player_id FROM matchmaking_stats_summary WHERE updated_at BETWEEN '2020-02-06 00:00:00' and '2020-02-06 23:59:59'\")\n",
    "a = cursor.fetchall()\n",
    "cursor.execute(\"SELECT DISTINCT player_id FROM matchmaking_stats_summary WHERE updated_at BETWEEN '2020-02-06 00:00:00' and '2020-02-06 23:59:59'\")\n",
    "b = cursor.fetchall()"
   ]
  },
  {
   "cell_type": "code",
   "execution_count": 6,
   "metadata": {},
   "outputs": [
    {
     "data": {
      "text/plain": [
       "330"
      ]
     },
     "execution_count": 6,
     "metadata": {},
     "output_type": "execute_result"
    }
   ],
   "source": [
    "intersec = set(a).intersection(set(b))\n",
    "len(intersec)"
   ]
  },
  {
   "cell_type": "code",
   "execution_count": 12,
   "metadata": {},
   "outputs": [
    {
     "data": {
      "text/plain": [
       "[(1269653,),\n",
       " (802646,),\n",
       " (576674,),\n",
       " (786888,),\n",
       " (1268835,),\n",
       " (27390,),\n",
       " (858828,),\n",
       " (1234254,),\n",
       " (471706,),\n",
       " (345015,)]"
      ]
     },
     "execution_count": 12,
     "metadata": {},
     "output_type": "execute_result"
    }
   ],
   "source": [
    "#10 players ids\n",
    "list(intersec)[0:10]"
   ]
  },
  {
   "cell_type": "markdown",
   "metadata": {},
   "source": [
    "## Observations regarding the tables"
   ]
  },
  {
   "cell_type": "markdown",
   "metadata": {},
   "source": [
    "* ### The number of players:\n",
    ">The number of players is different between the tables. Therefore is hard to do the correlation between these tables, because not all the tables contain every player."
   ]
  },
  {
   "cell_type": "code",
   "execution_count": 4,
   "metadata": {},
   "outputs": [
    {
     "data": {
      "text/plain": [
       "(3645, 2030, 3700)"
      ]
     },
     "execution_count": 4,
     "metadata": {},
     "output_type": "execute_result"
    }
   ],
   "source": [
    "players = cursor.execute(\"SELECT DISTINCT player_id FROM players\")\n",
    "players_matchmaking = cursor.execute(\"SELECT DISTINCT player_id FROM matchmaking_stats_summary\")\n",
    "players_monthly = cursor.execute(\"SELECT DISTINCT player_id FROM player_monthly_stats\")\n",
    "players, players_matchmaking, players_monthly"
   ]
  },
  {
   "cell_type": "markdown",
   "metadata": {},
   "source": [
    "* ### created_at == updated_at:\n",
    ">Every created_at date is equal updated_at date."
   ]
  },
  {
   "cell_type": "code",
   "execution_count": 13,
   "metadata": {},
   "outputs": [
    {
     "data": {
      "text/plain": [
       "(2057, 0)"
      ]
     },
     "execution_count": 13,
     "metadata": {},
     "output_type": "execute_result"
    }
   ],
   "source": [
    "query1 = \"SELECT created_at FROM matchmaking_stats_summary WHERE created_at=updated_at;\"\n",
    "query2 = \"SELECT created_at FROM matchmaking_stats_summary WHERE created_at!=updated_at;\"\n",
    "cursor.execute(query1), cursor.execute(query2)"
   ]
  },
  {
   "cell_type": "markdown",
   "metadata": {},
   "source": [
    "# Correlation Using Pandas"
   ]
  },
  {
   "cell_type": "code",
   "execution_count": 3,
   "metadata": {},
   "outputs": [],
   "source": [
    "import pandas as pd\n",
    "match = pd.read_csv('../csv/matchmaking_stats.csv')"
   ]
  },
  {
   "cell_type": "code",
   "execution_count": 4,
   "metadata": {},
   "outputs": [],
   "source": [
    "#Removing the unnecessaries columns\n",
    "my_df = match.drop(columns=['player_id', 'created_at', 'updated_at'])"
   ]
  },
  {
   "cell_type": "markdown",
   "metadata": {},
   "source": [
    "* ## Aplying the Correlation Methods:\n",
    "\n",
    ">__Pearson:__ Correlation between sets of data is a measure of how well they are related. The most common measure of correlation in stats is the Pearson Correlation. The full name is the Pearson Product Moment Correlation (PPMC). It shows the linear relationship between two sets of data. In simple terms, it answers the question, Can I draw a line graph to represent the data?\n",
    "* __Source:__ https://www.statisticshowto.com/probability-and-statistics/correlation-coefficient-formula/\n",
    "\n",
    ">__Spearman:__ The Spearman correlation evaluates the monotonic relationship between two continuous or ordinal variables. In a monotonic relationship, the variables tend to change together, but not necessarily at a constant rate. The Spearman correlation coefficient is based on the ranked values for each variable rather than the raw data."
   ]
  },
  {
   "cell_type": "markdown",
   "metadata": {},
   "source": [
    "* Using __matchmaking_stats__ table"
   ]
  },
  {
   "cell_type": "code",
   "execution_count": 5,
   "metadata": {},
   "outputs": [
    {
     "data": {
      "text/plain": [
       "(2057,\n",
       " Empty DataFrame\n",
       " Columns: [matches_played, total_wins, total_loss, mm_points, kills, death, assist, hs]\n",
       " Index: [])"
      ]
     },
     "execution_count": 5,
     "metadata": {},
     "output_type": "execute_result"
    }
   ],
   "source": [
    "#Checking if is there a player with no matches played\n",
    "len(my_df['matches_played']), my_df[ my_df['matches_played'] == 0]\n",
    "#No, there isn't"
   ]
  },
  {
   "cell_type": "code",
   "execution_count": 22,
   "metadata": {},
   "outputs": [
    {
     "data": {
      "text/html": [
       "<div>\n",
       "<style scoped>\n",
       "    .dataframe tbody tr th:only-of-type {\n",
       "        vertical-align: middle;\n",
       "    }\n",
       "\n",
       "    .dataframe tbody tr th {\n",
       "        vertical-align: top;\n",
       "    }\n",
       "\n",
       "    .dataframe thead th {\n",
       "        text-align: right;\n",
       "    }\n",
       "</style>\n",
       "<table border=\"1\" class=\"dataframe\">\n",
       "  <thead>\n",
       "    <tr style=\"text-align: right;\">\n",
       "      <th></th>\n",
       "      <th>matches_played</th>\n",
       "      <th>total_wins</th>\n",
       "      <th>total_loss</th>\n",
       "      <th>mm_points</th>\n",
       "      <th>kills</th>\n",
       "      <th>death</th>\n",
       "      <th>assist</th>\n",
       "      <th>hs</th>\n",
       "    </tr>\n",
       "  </thead>\n",
       "  <tbody>\n",
       "    <tr>\n",
       "      <th>matches_played</th>\n",
       "      <td>1.000000</td>\n",
       "      <td>0.887964</td>\n",
       "      <td>0.878356</td>\n",
       "      <td>0.689930</td>\n",
       "      <td>0.974546</td>\n",
       "      <td>0.984908</td>\n",
       "      <td>0.949598</td>\n",
       "      <td>0.914814</td>\n",
       "    </tr>\n",
       "    <tr>\n",
       "      <th>total_wins</th>\n",
       "      <td>0.887964</td>\n",
       "      <td>1.000000</td>\n",
       "      <td>0.560330</td>\n",
       "      <td>0.944465</td>\n",
       "      <td>0.906658</td>\n",
       "      <td>0.855386</td>\n",
       "      <td>0.884865</td>\n",
       "      <td>0.881565</td>\n",
       "    </tr>\n",
       "    <tr>\n",
       "      <th>total_loss</th>\n",
       "      <td>0.878356</td>\n",
       "      <td>0.560330</td>\n",
       "      <td>1.000000</td>\n",
       "      <td>0.261150</td>\n",
       "      <td>0.812837</td>\n",
       "      <td>0.885040</td>\n",
       "      <td>0.790564</td>\n",
       "      <td>0.731682</td>\n",
       "    </tr>\n",
       "    <tr>\n",
       "      <th>mm_points</th>\n",
       "      <td>0.689930</td>\n",
       "      <td>0.944465</td>\n",
       "      <td>0.261150</td>\n",
       "      <td>1.000000</td>\n",
       "      <td>0.740193</td>\n",
       "      <td>0.651729</td>\n",
       "      <td>0.723895</td>\n",
       "      <td>0.743512</td>\n",
       "    </tr>\n",
       "    <tr>\n",
       "      <th>kills</th>\n",
       "      <td>0.974546</td>\n",
       "      <td>0.906658</td>\n",
       "      <td>0.812837</td>\n",
       "      <td>0.740193</td>\n",
       "      <td>1.000000</td>\n",
       "      <td>0.973337</td>\n",
       "      <td>0.956963</td>\n",
       "      <td>0.954986</td>\n",
       "    </tr>\n",
       "    <tr>\n",
       "      <th>death</th>\n",
       "      <td>0.984908</td>\n",
       "      <td>0.855386</td>\n",
       "      <td>0.885040</td>\n",
       "      <td>0.651729</td>\n",
       "      <td>0.973337</td>\n",
       "      <td>1.000000</td>\n",
       "      <td>0.953071</td>\n",
       "      <td>0.910926</td>\n",
       "    </tr>\n",
       "    <tr>\n",
       "      <th>assist</th>\n",
       "      <td>0.949598</td>\n",
       "      <td>0.884865</td>\n",
       "      <td>0.790564</td>\n",
       "      <td>0.723895</td>\n",
       "      <td>0.956963</td>\n",
       "      <td>0.953071</td>\n",
       "      <td>1.000000</td>\n",
       "      <td>0.901647</td>\n",
       "    </tr>\n",
       "    <tr>\n",
       "      <th>hs</th>\n",
       "      <td>0.914814</td>\n",
       "      <td>0.881565</td>\n",
       "      <td>0.731682</td>\n",
       "      <td>0.743512</td>\n",
       "      <td>0.954986</td>\n",
       "      <td>0.910926</td>\n",
       "      <td>0.901647</td>\n",
       "      <td>1.000000</td>\n",
       "    </tr>\n",
       "  </tbody>\n",
       "</table>\n",
       "</div>"
      ],
      "text/plain": [
       "                matches_played  total_wins  total_loss  mm_points     kills  \\\n",
       "matches_played        1.000000    0.887964    0.878356   0.689930  0.974546   \n",
       "total_wins            0.887964    1.000000    0.560330   0.944465  0.906658   \n",
       "total_loss            0.878356    0.560330    1.000000   0.261150  0.812837   \n",
       "mm_points             0.689930    0.944465    0.261150   1.000000  0.740193   \n",
       "kills                 0.974546    0.906658    0.812837   0.740193  1.000000   \n",
       "death                 0.984908    0.855386    0.885040   0.651729  0.973337   \n",
       "assist                0.949598    0.884865    0.790564   0.723895  0.956963   \n",
       "hs                    0.914814    0.881565    0.731682   0.743512  0.954986   \n",
       "\n",
       "                   death    assist        hs  \n",
       "matches_played  0.984908  0.949598  0.914814  \n",
       "total_wins      0.855386  0.884865  0.881565  \n",
       "total_loss      0.885040  0.790564  0.731682  \n",
       "mm_points       0.651729  0.723895  0.743512  \n",
       "kills           0.973337  0.956963  0.954986  \n",
       "death           1.000000  0.953071  0.910926  \n",
       "assist          0.953071  1.000000  0.901647  \n",
       "hs              0.910926  0.901647  1.000000  "
      ]
     },
     "execution_count": 22,
     "metadata": {},
     "output_type": "execute_result"
    }
   ],
   "source": [
    "#Analysing the pearson correlation\n",
    "my_df.corr(method ='pearson')"
   ]
  },
  {
   "cell_type": "code",
   "execution_count": 15,
   "metadata": {},
   "outputs": [
    {
     "data": {
      "text/plain": [
       "<matplotlib.axes._subplots.AxesSubplot at 0x7fca6c434ac8>"
      ]
     },
     "execution_count": 15,
     "metadata": {},
     "output_type": "execute_result"
    },
    {
     "data": {
      "image/png": "[encoded data removed]",
      "text/plain": [
       "<Figure size 432x288 with 2 Axes>"
      ]
     },
     "metadata": {
      "needs_background": "light"
     },
     "output_type": "display_data"
    }
   ],
   "source": [
    "#Showing in a Heatmap:\n",
    "import seaborn as sns\n",
    "import numpy as np\n",
    "import pandas as pd\n",
    "import matplotlib.pyplot as plt\n",
    "heatmap_chart = sns.heatmap(my_df.corr(method ='pearson'), annot = True, fmt='.2g', \n",
    "            cmap= 'coolwarm', linewidths=2.5, linecolor='black')\n",
    "heatmap_chart"
   ]
  },
  {
   "cell_type": "markdown",
   "metadata": {},
   "source": [
    "__Table Caption:__\n",
    "\n",
    "__Evans (1996)__ suggests for the absolute value of r:\n",
    "* .00-.19 “very weak”\n",
    "* .20-.39 “weak”\n",
    "* .40-.59 “moderate”\n",
    "* .60-.79 “strong”\n",
    "* .80-1.0 “very strong”"
   ]
  },
  {
   "cell_type": "code",
   "execution_count": 35,
   "metadata": {},
   "outputs": [],
   "source": [
    "#exporting this image to images/\n",
    "figure = heatmap_chart.get_figure()    \n",
    "figure.savefig('../images/correlations/heatmap_pearson_matchmakingsummary.png', dpi=400)"
   ]
  },
  {
   "cell_type": "code",
   "execution_count": 17,
   "metadata": {},
   "outputs": [
    {
     "data": {
      "text/html": [
       "<div>\n",
       "<style scoped>\n",
       "    .dataframe tbody tr th:only-of-type {\n",
       "        vertical-align: middle;\n",
       "    }\n",
       "\n",
       "    .dataframe tbody tr th {\n",
       "        vertical-align: top;\n",
       "    }\n",
       "\n",
       "    .dataframe thead th {\n",
       "        text-align: right;\n",
       "    }\n",
       "</style>\n",
       "<table border=\"1\" class=\"dataframe\">\n",
       "  <thead>\n",
       "    <tr style=\"text-align: right;\">\n",
       "      <th></th>\n",
       "      <th>matches_played</th>\n",
       "      <th>total_wins</th>\n",
       "      <th>total_loss</th>\n",
       "      <th>mm_points</th>\n",
       "      <th>kills</th>\n",
       "      <th>death</th>\n",
       "      <th>assist</th>\n",
       "      <th>hs</th>\n",
       "    </tr>\n",
       "  </thead>\n",
       "  <tbody>\n",
       "    <tr>\n",
       "      <th>matches_played</th>\n",
       "      <td>1.000000</td>\n",
       "      <td>0.696985</td>\n",
       "      <td>0.646230</td>\n",
       "      <td>0.425585</td>\n",
       "      <td>0.866243</td>\n",
       "      <td>0.877945</td>\n",
       "      <td>0.814957</td>\n",
       "      <td>0.809291</td>\n",
       "    </tr>\n",
       "    <tr>\n",
       "      <th>total_wins</th>\n",
       "      <td>0.696985</td>\n",
       "      <td>1.000000</td>\n",
       "      <td>0.007776</td>\n",
       "      <td>0.922539</td>\n",
       "      <td>0.709262</td>\n",
       "      <td>0.567913</td>\n",
       "      <td>0.668185</td>\n",
       "      <td>0.679919</td>\n",
       "    </tr>\n",
       "    <tr>\n",
       "      <th>total_loss</th>\n",
       "      <td>0.646230</td>\n",
       "      <td>0.007776</td>\n",
       "      <td>1.000000</td>\n",
       "      <td>-0.270040</td>\n",
       "      <td>0.464661</td>\n",
       "      <td>0.625495</td>\n",
       "      <td>0.452129</td>\n",
       "      <td>0.428923</td>\n",
       "    </tr>\n",
       "    <tr>\n",
       "      <th>mm_points</th>\n",
       "      <td>0.425585</td>\n",
       "      <td>0.922539</td>\n",
       "      <td>-0.270040</td>\n",
       "      <td>1.000000</td>\n",
       "      <td>0.495879</td>\n",
       "      <td>0.324285</td>\n",
       "      <td>0.469164</td>\n",
       "      <td>0.488657</td>\n",
       "    </tr>\n",
       "    <tr>\n",
       "      <th>kills</th>\n",
       "      <td>0.866243</td>\n",
       "      <td>0.709262</td>\n",
       "      <td>0.464661</td>\n",
       "      <td>0.495879</td>\n",
       "      <td>1.000000</td>\n",
       "      <td>0.893996</td>\n",
       "      <td>0.832287</td>\n",
       "      <td>0.916895</td>\n",
       "    </tr>\n",
       "    <tr>\n",
       "      <th>death</th>\n",
       "      <td>0.877945</td>\n",
       "      <td>0.567913</td>\n",
       "      <td>0.625495</td>\n",
       "      <td>0.324285</td>\n",
       "      <td>0.893996</td>\n",
       "      <td>1.000000</td>\n",
       "      <td>0.844304</td>\n",
       "      <td>0.821778</td>\n",
       "    </tr>\n",
       "    <tr>\n",
       "      <th>assist</th>\n",
       "      <td>0.814957</td>\n",
       "      <td>0.668185</td>\n",
       "      <td>0.452129</td>\n",
       "      <td>0.469164</td>\n",
       "      <td>0.832287</td>\n",
       "      <td>0.844304</td>\n",
       "      <td>1.000000</td>\n",
       "      <td>0.774843</td>\n",
       "    </tr>\n",
       "    <tr>\n",
       "      <th>hs</th>\n",
       "      <td>0.809291</td>\n",
       "      <td>0.679919</td>\n",
       "      <td>0.428923</td>\n",
       "      <td>0.488657</td>\n",
       "      <td>0.916895</td>\n",
       "      <td>0.821778</td>\n",
       "      <td>0.774843</td>\n",
       "      <td>1.000000</td>\n",
       "    </tr>\n",
       "  </tbody>\n",
       "</table>\n",
       "</div>"
      ],
      "text/plain": [
       "                matches_played  total_wins  total_loss  mm_points     kills  \\\n",
       "matches_played        1.000000    0.696985    0.646230   0.425585  0.866243   \n",
       "total_wins            0.696985    1.000000    0.007776   0.922539  0.709262   \n",
       "total_loss            0.646230    0.007776    1.000000  -0.270040  0.464661   \n",
       "mm_points             0.425585    0.922539   -0.270040   1.000000  0.495879   \n",
       "kills                 0.866243    0.709262    0.464661   0.495879  1.000000   \n",
       "death                 0.877945    0.567913    0.625495   0.324285  0.893996   \n",
       "assist                0.814957    0.668185    0.452129   0.469164  0.832287   \n",
       "hs                    0.809291    0.679919    0.428923   0.488657  0.916895   \n",
       "\n",
       "                   death    assist        hs  \n",
       "matches_played  0.877945  0.814957  0.809291  \n",
       "total_wins      0.567913  0.668185  0.679919  \n",
       "total_loss      0.625495  0.452129  0.428923  \n",
       "mm_points       0.324285  0.469164  0.488657  \n",
       "kills           0.893996  0.832287  0.916895  \n",
       "death           1.000000  0.844304  0.821778  \n",
       "assist          0.844304  1.000000  0.774843  \n",
       "hs              0.821778  0.774843  1.000000  "
      ]
     },
     "execution_count": 17,
     "metadata": {},
     "output_type": "execute_result"
    }
   ],
   "source": [
    "#Analysing the spearman correlation\n",
    "my_df.corr(method ='spearman')"
   ]
  },
  {
   "cell_type": "code",
   "execution_count": 18,
   "metadata": {},
   "outputs": [
    {
     "data": {
      "text/plain": [
       "<matplotlib.axes._subplots.AxesSubplot at 0x7fca69071048>"
      ]
     },
     "execution_count": 18,
     "metadata": {},
     "output_type": "execute_result"
    },
    {
     "data": {
      "image/png": "[encoded data removed]",
      "text/plain": [
       "<Figure size 432x288 with 2 Axes>"
      ]
     },
     "metadata": {
      "needs_background": "light"
     },
     "output_type": "display_data"
    }
   ],
   "source": [
    "#Showing in a Heatmap:\n",
    "import seaborn as sns\n",
    "import numpy as np\n",
    "import pandas as pd\n",
    "import matplotlib.pyplot as plt\n",
    "heatmap_chart = sns.heatmap(my_df.corr(method ='spearman'), annot = True, fmt='.2g', \n",
    "            cmap= 'coolwarm', linewidths=2.5, linecolor='black')\n",
    "heatmap_chart"
   ]
  },
  {
   "cell_type": "markdown",
   "metadata": {},
   "source": [
    "__Table Caption:__\n",
    "\n",
    "__Evans (1996)__ suggests for the absolute value of r:\n",
    "* .00-.19 “very weak”\n",
    "* .20-.39 “weak”\n",
    "* .40-.59 “moderate”\n",
    "* .60-.79 “strong”\n",
    "* .80-1.0 “very strong”"
   ]
  },
  {
   "cell_type": "code",
   "execution_count": 26,
   "metadata": {},
   "outputs": [],
   "source": [
    "#exporting this image to images/\n",
    "figure = heatmap_chart.get_figure()    \n",
    "figure.savefig('../images/correlations/heatmap_spearman_matchmakingsummary.png', dpi=400)"
   ]
  },
  {
   "cell_type": "markdown",
   "metadata": {},
   "source": [
    "* Using __monthly_stats__ table:"
   ]
  },
  {
   "cell_type": "code",
   "execution_count": 11,
   "metadata": {},
   "outputs": [],
   "source": [
    "monthly = pd.read_csv('../csv/monthly_stats.csv')"
   ]
  },
  {
   "cell_type": "code",
   "execution_count": 24,
   "metadata": {},
   "outputs": [
    {
     "data": {
      "text/plain": [
       "(3700,\n",
       " Empty DataFrame\n",
       " Columns: [player_id, game_mode, ref_date, total_played, kills, deaths, assists, wins, loss, headshots]\n",
       " Index: [])"
      ]
     },
     "execution_count": 24,
     "metadata": {},
     "output_type": "execute_result"
    }
   ],
   "source": [
    "#Checking if is there a player with total_played = 0\n",
    "len(monthly['total_played']), monthly[ monthly['total_played'] == 0]\n",
    "#No, there isn't"
   ]
  },
  {
   "cell_type": "code",
   "execution_count": 33,
   "metadata": {},
   "outputs": [
    {
     "data": {
      "text/html": [
       "<div>\n",
       "<style scoped>\n",
       "    .dataframe tbody tr th:only-of-type {\n",
       "        vertical-align: middle;\n",
       "    }\n",
       "\n",
       "    .dataframe tbody tr th {\n",
       "        vertical-align: top;\n",
       "    }\n",
       "\n",
       "    .dataframe thead th {\n",
       "        text-align: right;\n",
       "    }\n",
       "</style>\n",
       "<table border=\"1\" class=\"dataframe\">\n",
       "  <thead>\n",
       "    <tr style=\"text-align: right;\">\n",
       "      <th></th>\n",
       "      <th>total_played</th>\n",
       "      <th>kills</th>\n",
       "      <th>deaths</th>\n",
       "      <th>assists</th>\n",
       "      <th>wins</th>\n",
       "      <th>loss</th>\n",
       "      <th>headshots</th>\n",
       "    </tr>\n",
       "  </thead>\n",
       "  <tbody>\n",
       "    <tr>\n",
       "      <th>total_played</th>\n",
       "      <td>1.000000</td>\n",
       "      <td>0.980313</td>\n",
       "      <td>0.991676</td>\n",
       "      <td>0.977086</td>\n",
       "      <td>0.962017</td>\n",
       "      <td>0.956470</td>\n",
       "      <td>0.943267</td>\n",
       "    </tr>\n",
       "    <tr>\n",
       "      <th>kills</th>\n",
       "      <td>0.980313</td>\n",
       "      <td>1.000000</td>\n",
       "      <td>0.981154</td>\n",
       "      <td>0.973452</td>\n",
       "      <td>0.965331</td>\n",
       "      <td>0.931750</td>\n",
       "      <td>0.973025</td>\n",
       "    </tr>\n",
       "    <tr>\n",
       "      <th>deaths</th>\n",
       "      <td>0.991676</td>\n",
       "      <td>0.981154</td>\n",
       "      <td>1.000000</td>\n",
       "      <td>0.981392</td>\n",
       "      <td>0.957663</td>\n",
       "      <td>0.967152</td>\n",
       "      <td>0.945501</td>\n",
       "    </tr>\n",
       "    <tr>\n",
       "      <th>assists</th>\n",
       "      <td>0.977086</td>\n",
       "      <td>0.973452</td>\n",
       "      <td>0.981392</td>\n",
       "      <td>1.000000</td>\n",
       "      <td>0.957183</td>\n",
       "      <td>0.933927</td>\n",
       "      <td>0.939418</td>\n",
       "    </tr>\n",
       "    <tr>\n",
       "      <th>wins</th>\n",
       "      <td>0.962017</td>\n",
       "      <td>0.965331</td>\n",
       "      <td>0.957663</td>\n",
       "      <td>0.957183</td>\n",
       "      <td>1.000000</td>\n",
       "      <td>0.876682</td>\n",
       "      <td>0.936704</td>\n",
       "    </tr>\n",
       "    <tr>\n",
       "      <th>loss</th>\n",
       "      <td>0.956470</td>\n",
       "      <td>0.931750</td>\n",
       "      <td>0.967152</td>\n",
       "      <td>0.933927</td>\n",
       "      <td>0.876682</td>\n",
       "      <td>1.000000</td>\n",
       "      <td>0.886583</td>\n",
       "    </tr>\n",
       "    <tr>\n",
       "      <th>headshots</th>\n",
       "      <td>0.943267</td>\n",
       "      <td>0.973025</td>\n",
       "      <td>0.945501</td>\n",
       "      <td>0.939418</td>\n",
       "      <td>0.936704</td>\n",
       "      <td>0.886583</td>\n",
       "      <td>1.000000</td>\n",
       "    </tr>\n",
       "  </tbody>\n",
       "</table>\n",
       "</div>"
      ],
      "text/plain": [
       "              total_played     kills    deaths   assists      wins      loss  \\\n",
       "total_played      1.000000  0.980313  0.991676  0.977086  0.962017  0.956470   \n",
       "kills             0.980313  1.000000  0.981154  0.973452  0.965331  0.931750   \n",
       "deaths            0.991676  0.981154  1.000000  0.981392  0.957663  0.967152   \n",
       "assists           0.977086  0.973452  0.981392  1.000000  0.957183  0.933927   \n",
       "wins              0.962017  0.965331  0.957663  0.957183  1.000000  0.876682   \n",
       "loss              0.956470  0.931750  0.967152  0.933927  0.876682  1.000000   \n",
       "headshots         0.943267  0.973025  0.945501  0.939418  0.936704  0.886583   \n",
       "\n",
       "              headshots  \n",
       "total_played   0.943267  \n",
       "kills          0.973025  \n",
       "deaths         0.945501  \n",
       "assists        0.939418  \n",
       "wins           0.936704  \n",
       "loss           0.886583  \n",
       "headshots      1.000000  "
      ]
     },
     "execution_count": 33,
     "metadata": {},
     "output_type": "execute_result"
    }
   ],
   "source": [
    "#Analysing the pearson correlation\n",
    "my_df2 = monthly.drop(columns=['player_id', 'game_mode', 'ref_date'])\n",
    "my_df2.corr(method ='pearson')"
   ]
  },
  {
   "cell_type": "code",
   "execution_count": 32,
   "metadata": {},
   "outputs": [
    {
     "data": {
      "text/plain": [
       "<matplotlib.axes._subplots.AxesSubplot at 0x7fca66b36c50>"
      ]
     },
     "execution_count": 32,
     "metadata": {},
     "output_type": "execute_result"
    },
    {
     "data": {
      "image/png": "[encoded data removed]",
      "text/plain": [
       "<Figure size 432x288 with 2 Axes>"
      ]
     },
     "metadata": {
      "needs_background": "light"
     },
     "output_type": "display_data"
    }
   ],
   "source": [
    "heatmap_chart_monthly = sns.heatmap(my_df2.corr(method ='pearson'), annot = True, fmt='.2g', \n",
    "            cmap= 'coolwarm', linewidths=2.5, linecolor='black')\n",
    "heatmap_chart_monthly"
   ]
  },
  {
   "cell_type": "markdown",
   "metadata": {},
   "source": [
    "__Table Caption:__\n",
    "\n",
    "__Evans (1996)__ suggests for the absolute value of r:\n",
    "* .00-.19 “very weak”\n",
    "* .20-.39 “weak”\n",
    "* .40-.59 “moderate”\n",
    "* .60-.79 “strong”\n",
    "* .80-1.0 “very strong”"
   ]
  },
  {
   "cell_type": "code",
   "execution_count": 34,
   "metadata": {},
   "outputs": [],
   "source": [
    "#exporting this image to images/\n",
    "figure2 = heatmap_chart_monthly.get_figure()    \n",
    "figure2.savefig('../images/correlations/heatmap_pearson_monthly.png', dpi=400)"
   ]
  },
  {
   "cell_type": "code",
   "execution_count": 36,
   "metadata": {},
   "outputs": [
    {
     "data": {
      "text/html": [
       "<div>\n",
       "<style scoped>\n",
       "    .dataframe tbody tr th:only-of-type {\n",
       "        vertical-align: middle;\n",
       "    }\n",
       "\n",
       "    .dataframe tbody tr th {\n",
       "        vertical-align: top;\n",
       "    }\n",
       "\n",
       "    .dataframe thead th {\n",
       "        text-align: right;\n",
       "    }\n",
       "</style>\n",
       "<table border=\"1\" class=\"dataframe\">\n",
       "  <thead>\n",
       "    <tr style=\"text-align: right;\">\n",
       "      <th></th>\n",
       "      <th>total_played</th>\n",
       "      <th>kills</th>\n",
       "      <th>deaths</th>\n",
       "      <th>assists</th>\n",
       "      <th>wins</th>\n",
       "      <th>loss</th>\n",
       "      <th>headshots</th>\n",
       "    </tr>\n",
       "  </thead>\n",
       "  <tbody>\n",
       "    <tr>\n",
       "      <th>total_played</th>\n",
       "      <td>1.000000</td>\n",
       "      <td>0.982518</td>\n",
       "      <td>0.989723</td>\n",
       "      <td>0.979093</td>\n",
       "      <td>0.954233</td>\n",
       "      <td>0.943255</td>\n",
       "      <td>0.966492</td>\n",
       "    </tr>\n",
       "    <tr>\n",
       "      <th>kills</th>\n",
       "      <td>0.982518</td>\n",
       "      <td>1.000000</td>\n",
       "      <td>0.984027</td>\n",
       "      <td>0.980814</td>\n",
       "      <td>0.962614</td>\n",
       "      <td>0.925586</td>\n",
       "      <td>0.986897</td>\n",
       "    </tr>\n",
       "    <tr>\n",
       "      <th>deaths</th>\n",
       "      <td>0.989723</td>\n",
       "      <td>0.984027</td>\n",
       "      <td>1.000000</td>\n",
       "      <td>0.983786</td>\n",
       "      <td>0.949653</td>\n",
       "      <td>0.960312</td>\n",
       "      <td>0.967235</td>\n",
       "    </tr>\n",
       "    <tr>\n",
       "      <th>assists</th>\n",
       "      <td>0.979093</td>\n",
       "      <td>0.980814</td>\n",
       "      <td>0.983786</td>\n",
       "      <td>1.000000</td>\n",
       "      <td>0.956133</td>\n",
       "      <td>0.928219</td>\n",
       "      <td>0.964110</td>\n",
       "    </tr>\n",
       "    <tr>\n",
       "      <th>wins</th>\n",
       "      <td>0.954233</td>\n",
       "      <td>0.962614</td>\n",
       "      <td>0.949653</td>\n",
       "      <td>0.956133</td>\n",
       "      <td>1.000000</td>\n",
       "      <td>0.850956</td>\n",
       "      <td>0.947928</td>\n",
       "    </tr>\n",
       "    <tr>\n",
       "      <th>loss</th>\n",
       "      <td>0.943255</td>\n",
       "      <td>0.925586</td>\n",
       "      <td>0.960312</td>\n",
       "      <td>0.928219</td>\n",
       "      <td>0.850956</td>\n",
       "      <td>1.000000</td>\n",
       "      <td>0.903253</td>\n",
       "    </tr>\n",
       "    <tr>\n",
       "      <th>headshots</th>\n",
       "      <td>0.966492</td>\n",
       "      <td>0.986897</td>\n",
       "      <td>0.967235</td>\n",
       "      <td>0.964110</td>\n",
       "      <td>0.947928</td>\n",
       "      <td>0.903253</td>\n",
       "      <td>1.000000</td>\n",
       "    </tr>\n",
       "  </tbody>\n",
       "</table>\n",
       "</div>"
      ],
      "text/plain": [
       "              total_played     kills    deaths   assists      wins      loss  \\\n",
       "total_played      1.000000  0.982518  0.989723  0.979093  0.954233  0.943255   \n",
       "kills             0.982518  1.000000  0.984027  0.980814  0.962614  0.925586   \n",
       "deaths            0.989723  0.984027  1.000000  0.983786  0.949653  0.960312   \n",
       "assists           0.979093  0.980814  0.983786  1.000000  0.956133  0.928219   \n",
       "wins              0.954233  0.962614  0.949653  0.956133  1.000000  0.850956   \n",
       "loss              0.943255  0.925586  0.960312  0.928219  0.850956  1.000000   \n",
       "headshots         0.966492  0.986897  0.967235  0.964110  0.947928  0.903253   \n",
       "\n",
       "              headshots  \n",
       "total_played   0.966492  \n",
       "kills          0.986897  \n",
       "deaths         0.967235  \n",
       "assists        0.964110  \n",
       "wins           0.947928  \n",
       "loss           0.903253  \n",
       "headshots      1.000000  "
      ]
     },
     "execution_count": 36,
     "metadata": {},
     "output_type": "execute_result"
    }
   ],
   "source": [
    "#Analysing the spearman correlation\n",
    "my_df2.corr(method ='spearman')"
   ]
  },
  {
   "cell_type": "code",
   "execution_count": 37,
   "metadata": {},
   "outputs": [
    {
     "data": {
      "text/plain": [
       "<matplotlib.axes._subplots.AxesSubplot at 0x7fca669e41d0>"
      ]
     },
     "execution_count": 37,
     "metadata": {},
     "output_type": "execute_result"
    },
    {
     "data": {
      "image/png": "[encoded data removed]",
      "text/plain": [
       "<Figure size 432x288 with 2 Axes>"
      ]
     },
     "metadata": {
      "needs_background": "light"
     },
     "output_type": "display_data"
    }
   ],
   "source": [
    "heatmap_chart_monthly = sns.heatmap(my_df2.corr(method ='spearman'), annot = True, fmt='.2g', \n",
    "            cmap= 'coolwarm', linewidths=2.5, linecolor='black')\n",
    "heatmap_chart_monthly"
   ]
  },
  {
   "cell_type": "code",
   "execution_count": 38,
   "metadata": {},
   "outputs": [],
   "source": [
    "figure2 = heatmap_chart_monthly.get_figure()    \n",
    "figure2.savefig('../images/correlations/heatmap_spearman_monthly.png', dpi=400)"
   ]
  },
  {
   "cell_type": "markdown",
   "metadata": {},
   "source": [
    ">In the tables above we can see a, at least strong, correlation between matches_played or total_played and every other rows. As expected.\n",
    "\n",
    ">Looking for these images above we can notice the spearman correlation method was more trustworthy than the pearson one, for the mm_points, total_loss and total_wins. Using this correlation method we can notice the mm_points and total_loss are inversely related (even that we can not to say if it is linear or not), while using the Pearson one we can't notice that it be inversely related. But in fact, it is. How in the case of mm_points, the variables tend to move in the same relative direction but not in the same rate, so it isn't a linear relationship. Therefore the choice of the Spearman correlation for the matchmaking_stats table is better than the Pearson one.\n",
    "\n",
    ">Every other relation with total_played or matches_played is going to be a linear relationship, in this case the choice of Pearson is more recommended. But in the related above case, the results are so near.\n",
    "\n",
    "Sources:https://support.minitab.com/pt-br/minitab/19/help-and-how-to/statistics/basic-statistics/supporting-topics/basics/linear-nonlinear-and-monotonic-relationships/, \n",
    "https://www.ucl.ac.uk/child-health/short-courses-events/about-statistical-courses/research-methods-and-statistics/chapter-8-content-5, \n",
    "http://learntech.uwe.ac.uk/da/Default.aspx?pageid=1442\n"
   ]
  }
 ],
 "metadata": {
  "kernelspec": {
   "display_name": "Python 3",
   "language": "python",
   "name": "python3"
  },
  "language_info": {
   "codemirror_mode": {
    "name": "ipython",
    "version": 3
   },
   "file_extension": ".py",
   "mimetype": "text/x-python",
   "name": "python",
   "nbconvert_exporter": "python",
   "pygments_lexer": "ipython3",
   "version": "3.7.0"
  }
 },
 "nbformat": 4,
 "nbformat_minor": 4
}
